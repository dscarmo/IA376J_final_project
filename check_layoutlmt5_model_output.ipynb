{
 "cells": [
  {
   "cell_type": "code",
   "execution_count": 1,
   "metadata": {},
   "outputs": [
    {
     "name": "stdout",
     "output_type": "stream",
     "text": [
      "PL version: 1.0.7\n",
      "pytorch version: 1.7.0+cu101\n",
      "Transformers version: 4.1.1\n"
     ]
    }
   ],
   "source": [
    "import torch\n",
    "from model import LayoutLMT5\n",
    "from metrics import compute_f1, compute_exact"
   ]
  },
  {
   "cell_type": "markdown",
   "metadata": {},
   "source": [
    "# T5 Base (without LayoutLM)"
   ]
  },
  {
   "cell_type": "code",
   "execution_count": 2,
   "metadata": {},
   "outputs": [
    {
     "name": "stdout",
     "output_type": "stream",
     "text": [
      "Initializing T5...\n"
     ]
    },
    {
     "name": "stderr",
     "output_type": "stream",
     "text": [
      "Some weights of the model checkpoint at t5-base were not used when initializing T5ForConditionalGeneration: ['decoder.block.0.layer.1.EncDecAttention.relative_attention_bias.weight']\n",
      "- This IS expected if you are initializing T5ForConditionalGeneration from the checkpoint of a model trained on another task or with another architecture (e.g. initializing a BertForSequenceClassification model from a BertForPreTraining model).\n",
      "- This IS NOT expected if you are initializing T5ForConditionalGeneration from the checkpoint of a model that you expect to be exactly identical (initializing a BertForSequenceClassification model from a BertForSequenceClassification model).\n"
     ]
    },
    {
     "name": "stdout",
     "output_type": "stream",
     "text": [
      "test DocVQA folder data/raw/test tokenizer PreTrainedTokenizer(name_or_path='t5-base', vocab_size=32100, model_max_len=512, is_fast=False, padding_side='right', special_tokens={'eos_token': '</s>', 'unk_token': '<unk>', 'pad_token': '<pad>', 'additional_special_tokens': ['<extra_id_0>', '<extra_id_1>', '<extra_id_2>', '<extra_id_3>', '<extra_id_4>', '<extra_id_5>', '<extra_id_6>', '<extra_id_7>', '<extra_id_8>', '<extra_id_9>', '<extra_id_10>', '<extra_id_11>', '<extra_id_12>', '<extra_id_13>', '<extra_id_14>', '<extra_id_15>', '<extra_id_16>', '<extra_id_17>', '<extra_id_18>', '<extra_id_19>', '<extra_id_20>', '<extra_id_21>', '<extra_id_22>', '<extra_id_23>', '<extra_id_24>', '<extra_id_25>', '<extra_id_26>', '<extra_id_27>', '<extra_id_28>', '<extra_id_29>', '<extra_id_30>', '<extra_id_31>', '<extra_id_32>', '<extra_id_33>', '<extra_id_34>', '<extra_id_35>', '<extra_id_36>', '<extra_id_37>', '<extra_id_38>', '<extra_id_39>', '<extra_id_40>', '<extra_id_41>', '<extra_id_42>', '<extra_id_43>', '<extra_id_44>', '<extra_id_45>', '<extra_id_46>', '<extra_id_47>', '<extra_id_48>', '<extra_id_49>', '<extra_id_50>', '<extra_id_51>', '<extra_id_52>', '<extra_id_53>', '<extra_id_54>', '<extra_id_55>', '<extra_id_56>', '<extra_id_57>', '<extra_id_58>', '<extra_id_59>', '<extra_id_60>', '<extra_id_61>', '<extra_id_62>', '<extra_id_63>', '<extra_id_64>', '<extra_id_65>', '<extra_id_66>', '<extra_id_67>', '<extra_id_68>', '<extra_id_69>', '<extra_id_70>', '<extra_id_71>', '<extra_id_72>', '<extra_id_73>', '<extra_id_74>', '<extra_id_75>', '<extra_id_76>', '<extra_id_77>', '<extra_id_78>', '<extra_id_79>', '<extra_id_80>', '<extra_id_81>', '<extra_id_82>', '<extra_id_83>', '<extra_id_84>', '<extra_id_85>', '<extra_id_86>', '<extra_id_87>', '<extra_id_88>', '<extra_id_89>', '<extra_id_90>', '<extra_id_91>', '<extra_id_92>', '<extra_id_93>', '<extra_id_94>', '<extra_id_95>', '<extra_id_96>', '<extra_id_97>', '<extra_id_98>', '<extra_id_99>']}) transform None seq_len 512 no_image True tgt_seq_len 512\n"
     ]
    }
   ],
   "source": [
    "model = LayoutLMT5.load_from_checkpoint(\"models/slower/slower-epoch=5.ckpt\", strict=False).eval().cuda()\n",
    "model.hparams.bs = 10\n",
    "val_dataloader = iter(model.test_dataloader())"
   ]
  },
  {
   "cell_type": "code",
   "execution_count": 3,
   "metadata": {},
   "outputs": [
    {
     "name": "stdout",
     "output_type": "stream",
     "text": [
      "input_text: question: What is the dividend payout in 2012? input: ITC Limited . Report and Accounts 2012 Net Worth Crores * Crores CAGR 16% CAGR 19% 18782 2607 1121 1996 2001 2006 2007 2008 2009 2010 2011 2012 1996 2001 2006 2007 2008 2009 2010 2011 2012 Crores CAGR 19% CAGR 30% 1996 2001 2006 2007 2008 2009 : 2010 2011 2012 1996 2 2006 2007 2008 2009 2010 2011 2012 Inclusive of Dividend Distribution Tax 2010-Special Centenary Dividend 2011-Special Dividend on 100th AGM Earnings And Dividend Per Share (Adjusted' 8/ 40% 30% 6 20% 10% 2 0% -10% L. 16 years 10 years 5 years 3 years 1996 2001 2006 2007 2008 2009 2010 2011 2012 1 year BSE FMCG Index Earning Per Share Dividend Per Share Special Dividend Per Share BSE Sensex ITC BSE FMCG Index commenced from 2000 Dividend Per Share and Dividend Payout for 2012 is based on the Board's recommendation to Members ^ Refer Page 176 for details of Adjusted Earnings/ Dividends/Net Worth per share Source: https://www.industrydocuments.ucsf.edu/docs/rnbx0223 \n",
      "\n",
      "prediction: based on the board's recommendation to Members\n",
      "target: NA\n",
      "F1: 0, Exact: 0\n",
      "\n",
      "input_text: question: What is the name of the person in the CC field ? input: MEMORANDUM TO : W. C. Combs Product Recovery Department FROM : Jo Spach public Relations DATE : February 27, 1992 SUBJECT: Unauthorized Cigarettes Enclosed are a number of unopened packs of RJR-brand cigarettes sent to us unsolicited. Please destroy these cigarettes without entry into company records If you have any questions, call me at ext. 7240. Jo Spach RJRT Public Relations cc: Betty Royal Tax Department 51360 0797 \n",
      "\n",
      "prediction: Betty Royal Tax Department\n",
      "target: NA\n",
      "F1: 0, Exact: 0\n",
      "\n",
      "input_text: question: What is the % of Employees in 2012 based on graph 'Distribution of Value-Added'? input: FINANCIAL HIGHLIGHTS 40000 18000 36000 16000 32000 14000 Crores 28000 12000 24000 Crores 10000 20000 8000 16000 6000 12000 4000 8000 2000 03 04 05 06 07 08 09 10 11 12 03 04 05 06 07 08 09 10 11 12 wwwwwww. Gross Income in 2011-12: $ 36073 Crores wwwwwww Non Cigarettes Segment Revenue Contribu Distribution Of Value 18000 [ 26000 5% 23000 16000 20000 5% 14000 Crores i Crores 17000 12000 14000 5% 10000 1 100 8000 8000 5000 5000 4000 03 04 05 06 07 08 09 10 11 12 2000 2008 2009 2010 2011 2012 wwwwwww Contribution in 2011-12: < 17936 Crores Exchequer Providers of Capital Employees Note: Includes Excise, Service Tax, VAT, Income Tax, Hotel Luxury Taxes etc. Return On Total Asset 190000 34 70000 32 150000 30 f Crores 130000 1 10000 28 90000 26 70000 50000 24 30000 22 10000 hangs 20 03 04 05 06 07 08 09 10 11 12 03 04 05 06 07 08 09 10 11 12 wwwwwww Market Capitalisation based on BSE closing prices wowwow wow Return on Total Assets \"Computed as PBIT divided by total Assets as on Balance Sheet Date These graphs depict the standalone financial position Source: https://www.industrydocuments.ucsf.edu/docs/rnbx0223 \n",
      "\n",
      "prediction: 5%\n",
      "target: NA\n",
      "F1: 0, Exact: 0\n",
      "\n",
      "input_text: question: What is the personnel costs in the 4th year? input: SECTION II - PRIVILEGED COMMUNICATION HARVARD UNIVERSITY, ROCHE ALEX F. 370 56 0985 BUDGET ESTIMATES FOR ALL YEARS OF SUPPORT REQUESTED FROM PUBLIC HEALTH SERVICE DIRECT COSTS ONLY (Omit Cents) DESCRIPTION STIPERIOD ADDITIONAL YEARS SUPPORT REQUESTED (This application only) AILED BUDGET) | 2ND YEAR 3RD YEAR 4TH YEAR 5TH YEAR 6TH YEAR | 7TH YEAR PERSONNEL COSTS 17,730 18,971 20, 299 21, 720 CONSULTANT COSTS Include fees, travel, etc.) - -- EQUIPMENT SUPPLIES 400 400 400 400 TRAVEL DOMESTIC FOREIGN - - - PATIENT COSTS - --- ALTERATIONS AND RENOVATIONS --- Other Expenses 1, 870 1, 870 1, 870 1, 870 Total Direct Costs 20 , 000 21, 241 22, 569 23, 990 Indirect Costs 6, 300 6, 741 7,313 7, 718 Total Costs 26 , 300 27 ,982 29, 882 31, 708 TOTAL FOR ENTIRE PROPOSED PROJECT PERIOD (Enter on Page 1, Item 4) $115, 872. REMARKS: Justify all costs for the first year for which the need may not be obvious. For future years, justify equipment costs, as well as any significant increases in any other category. If a recurring annual increase in personnel costs is requested, give percentage. (Use continuation page if needed.) I. Valadian: Will select and plan content of the three investigations. Will direct the writing and review the literature. R. Reed: Will plan and supervise the statistical analysis of the three topics. K. Halvorsen: Will carry out statistical analysis, coding and programming statistician) under the direction of Dr. Robert Reed. Supplies: Pens, pencils, paper, xeroxing. Computer and Computer Time: coding and programming of data collected. Storing of data for projects. MIN 398 (FORMERLY PHS 398) Rev. 1/73 Page 22 January, 1980 Sou /www.industrydocuments.ucsf.edu/docs/hrfw0227 \n",
      "\n",
      "prediction: 18,971\n",
      "target: NA\n",
      "F1: 0, Exact: 0\n",
      "\n",
      "input_text: question: What is the % of 'Providers of Capital' in the year 2010 based on 'Distribution of Value-Added' graph? input: FINANCIAL HIGHLIGHTS 40000 18000 36000 16000 32000 14000 Crores 28000 12000 24000 Crores 10000 20000 8000 16000 6000 12000 4000 8000 2000 03 04 05 06 07 08 09 10 11 12 03 04 05 06 07 08 09 10 11 12 wwwwwww. Gross Income in 2011-12: $ 36073 Crores wwwwwww Non Cigarettes Segment Revenue Contribu Distribution Of Value 18000 [ 26000 5% 23000 16000 20000 5% 14000 Crores i Crores 17000 12000 14000 5% 10000 1 100 8000 8000 5000 5000 4000 03 04 05 06 07 08 09 10 11 12 2000 2008 2009 2010 2011 2012 wwwwwww Contribution in 2011-12: < 17936 Crores Exchequer Providers of Capital Employees Note: Includes Excise, Service Tax, VAT, Income Tax, Hotel Luxury Taxes etc. Return On Total Asset 190000 34 70000 32 150000 30 f Crores 130000 1 10000 28 90000 26 70000 50000 24 30000 22 10000 hangs 20 03 04 05 06 07 08 09 10 11 12 03 04 05 06 07 08 09 10 11 12 wwwwwww Market Capitalisation based on BSE closing prices wowwow wow Return on Total Assets \"Computed as PBIT divided by total Assets as on Balance Sheet Date These graphs depict the standalone financial position Source: https://www.industrydocuments.ucsf.edu/docs/rnbx0223 \n",
      "\n",
      "prediction: 5%\n",
      "target: NA\n",
      "F1: 0, Exact: 0\n",
      "\n",
      "input_text: question: What is the table number? input: Table II Effects of Cold-acclimatization upon Activities of Rate-limiting Enzymes within the Liver Lobule of Fed and Fasted Rats Ambient 4 24 C p P. for b. for b. f Temperature Difference Difference Difference Nutrition between between between 12 Hours before Fed Fasted Fed Fasted Periportal Rats Fasted Sacrifice and Central Exposed and Fed Area of mu moles/ug protein/hour Areas of to 240c Rats a . Enzyme Lobule Lobules and 4 c Glycogen Periportal 0. 299 0.258 0. 371 0.256 0. 245 0.224 0.260 0.215 <0.001 <0. 10 40 . 05 Synthetase Central NS NS Glucokinase Periportal 0. 039 0. 040 0.143 0.161 <0. 05 NS Central 0. 334 0.301 0.509 0.433 <0. 001 <0.05 40. 05 Hexokinase Periportal 0.382 0.253 0.491 0.228 NS NS 40.01 Central 0. 349 0.244 0.382 0.244 NS <0. 05 Phospho- Periportal 0. 707 0. 819 0. 920 0.736 d <0. 10 NS Ns fructokinase Central 0. 756 0. 932 0. 949 1. 032 10. 05 <0. 05 Fructose Periportal 12.50 10.09 11.72 8.59 <0. 001 <0. 10 <0.05 Diphosphatase Central 4.41 5.16 3.76 4.76 NS NS Glucose Periportal 68.86 72.25 50.02 62.72 <0. 001 <0. 05 <0. 05 6-phosphatase Central 36.57 46.15 29.87 39.39 <0. 05 <0. 001 Glutamic- Periportal 14.52 14.59 14.69 13.41 0. 10d NS pyruvic Central 4.55 3.97 3.59 3.06 0. 001 0. 10 0. 10 transaminase a. Animals were either fed or fasted for 12 hours after 1 month exposure to ambient temperatures of 24 C or 4 C. b. Probability of differences occurring by chance according to analysis of variance; NS, difference nonsignificant. c. Significant by Student t-test for fed rats. d. Significant by Student t-test for fasted rats. e. Significant by Student t-test for 240 C-acclimatized rats. Source: \n",
      "\n",
      "prediction: II\n",
      "target: NA\n",
      "F1: 0, Exact: 0\n",
      "\n",
      "input_text: question: What is the Log-in No. ? input: RJRT/RESEARCH & DEVELOPMENT DOCUMENTATION APPROVAL FORM Log-in No. 88- NAME : William M. Coleman, III TYPE OF DOCUMENTATION: X Abstract TITLE : Sr. R&D Chemist Research Manuscript Oral Presentation DIVISION: Analytical Research Other RJRT/R&D R&DM or DATE : June 7, 1988 R&DR Number & Date MAIL ADDRESS : 611-13E/002 Extension: 5177 DOCUMENT TITLE:_ \"Mainstream Particulate Phase Comparison of a Reference Cigarette and a Cigarette That Heats Rather Than Burns Tobacco\" AUTHOR (S) /CO-AUTHOR (S) :_W. M. Coleman, III. H. L. Chung, D. S. Moore, E. L. White, B. M. Gordon, M. S. Uhrig, J. A. Giles, J. F. Elder, Jr., M. F. Borgerding, and R. D. Hicks. PURPOSE OF DOCUMENT PUBLICATION IN: PRESENTATION AT: 42nd Tobacco Chemists' Research Conference LOCATION: Lexington, Kentucky Date: _ October 2-5, 1988 Other pertinent information: Abstract due no later than June 24, 1988. Your signatures on this form indicate that: . to the best of your knowledge, the information contained in the document to be published/presented is not proprietary and the technical quality reflects positively on the image of RJRT and its R&D Departments. Author (s) , cuntsfamanut Date: 7jun1998 Managert botany a del Date: 6 -8 - 8 8 Director: Date: 51336 8059 \n",
      "\n",
      "prediction: 88\n",
      "target: NA\n",
      "F1: 0, Exact: 0\n",
      "\n",
      "input_text: question: What is the % of Exchequer in 2008 based on 'Distribution of Value-Added' graph? input: FINANCIAL HIGHLIGHTS 40000 18000 36000 16000 32000 14000 Crores 28000 12000 24000 Crores 10000 20000 8000 16000 6000 12000 4000 8000 2000 03 04 05 06 07 08 09 10 11 12 03 04 05 06 07 08 09 10 11 12 wwwwwww. Gross Income in 2011-12: $ 36073 Crores wwwwwww Non Cigarettes Segment Revenue Contribu Distribution Of Value 18000 [ 26000 5% 23000 16000 20000 5% 14000 Crores i Crores 17000 12000 14000 5% 10000 1 100 8000 8000 5000 5000 4000 03 04 05 06 07 08 09 10 11 12 2000 2008 2009 2010 2011 2012 wwwwwww Contribution in 2011-12: < 17936 Crores Exchequer Providers of Capital Employees Note: Includes Excise, Service Tax, VAT, Income Tax, Hotel Luxury Taxes etc. Return On Total Asset 190000 34 70000 32 150000 30 f Crores 130000 1 10000 28 90000 26 70000 50000 24 30000 22 10000 hangs 20 03 04 05 06 07 08 09 10 11 12 03 04 05 06 07 08 09 10 11 12 wwwwwww Market Capitalisation based on BSE closing prices wowwow wow Return on Total Assets \"Computed as PBIT divided by total Assets as on Balance Sheet Date These graphs depict the standalone financial position Source: https://www.industrydocuments.ucsf.edu/docs/rnbx0223 \n",
      "\n",
      "prediction: 5%\n",
      "target: NA\n",
      "F1: 0, Exact: 0\n",
      "\n",
      "input_text: question: What are the two types of rats tested? input: Table II Effects of Cold-acclimatization upon Activities of Rate-limiting Enzymes within the Liver Lobule of Fed and Fasted Rats Ambient 4 24 C p P. for b. for b. f Temperature Difference Difference Difference Nutrition between between between 12 Hours before Fed Fasted Fed Fasted Periportal Rats Fasted Sacrifice and Central Exposed and Fed Area of mu moles/ug protein/hour Areas of to 240c Rats a . Enzyme Lobule Lobules and 4 c Glycogen Periportal 0. 299 0.258 0. 371 0.256 0. 245 0.224 0.260 0.215 <0.001 <0. 10 40 . 05 Synthetase Central NS NS Glucokinase Periportal 0. 039 0. 040 0.143 0.161 <0. 05 NS Central 0. 334 0.301 0.509 0.433 <0. 001 <0.05 40. 05 Hexokinase Periportal 0.382 0.253 0.491 0.228 NS NS 40.01 Central 0. 349 0.244 0.382 0.244 NS <0. 05 Phospho- Periportal 0. 707 0. 819 0. 920 0.736 d <0. 10 NS Ns fructokinase Central 0. 756 0. 932 0. 949 1. 032 10. 05 <0. 05 Fructose Periportal 12.50 10.09 11.72 8.59 <0. 001 <0. 10 <0.05 Diphosphatase Central 4.41 5.16 3.76 4.76 NS NS Glucose Periportal 68.86 72.25 50.02 62.72 <0. 001 <0. 05 <0. 05 6-phosphatase Central 36.57 46.15 29.87 39.39 <0. 05 <0. 001 Glutamic- Periportal 14.52 14.59 14.69 13.41 0. 10d NS pyruvic Central 4.55 3.97 3.59 3.06 0. 001 0. 10 0. 10 transaminase a. Animals were either fed or fasted for 12 hours after 1 month exposure to ambient temperatures of 24 C or 4 C. b. Probability of differences occurring by chance according to analysis of variance; NS, difference nonsignificant. c. Significant by Student t-test for fed rats. d. Significant by Student t-test for fasted rats. e. Significant by Student t-test for 240 C-acclimatized rats. Source: \n",
      "\n",
      "prediction: Fed and Fasted Rats\n",
      "target: NA\n",
      "F1: 0, Exact: 0\n",
      "\n",
      "input_text: question: Which meeting is expected to have the highest ' attendance ' ? input: 14 Agenda for Menopausal Health Publication Management Meeting April 2004, 10:30 AM-12:00 PM, CVCRE5101 VIII. Upcoming Meetings and Deadlines Meeting Meeting Date Submission Attendance Original Deadline (Total N, Material Needed Specialties) NAMS - North American Oct. 7-9, 2004 4/30 1,500 Yes Menopause Society (Washington, DC) ACR/ARHP - American College Oct. 16-21. 5/04 5,000 of Rheumatology/ Association of 2004 Rheumatology Health Professionals (San Antonio, TX) ASRM - American Society for Oct. 16-21, 5/04 4.200 No Reproductive Medicine 2004 (Philadelphia, PA) AAPS - American Association of Nov. 7-11, 5/04 7.500 Yes Pharmaceutical Scientists 2004 (Baltimore, MD) ASBMR - American Society for Oct. 1-5, 2004 5/11/04 5,000 No Bone and Mineral Research (Seattle, WA) ACCP - American College of Oct. 3-5, 2004 5/14/04 250 No Clinical Pharmacology (Phoenix, AZ) ARHP - Association of Sept. 8-11. 5/28/04 400 No Reproductive Health Professionals 2004 (Washington, DC) NOS - National Osteoporosis Nov. 29-Dec. 6/1 1/04 600 Society - Bath Conference on 2, 2004 Osteoporosis (Bath, UK) OARSI - OsteoArthritis Research Dec. 2-5, 2004 6/30/04 1.000 Society International (Chicago, IL) DESIGN134427 Source: https://www.industrydocuments.ucsf.edu/docs/ysbw0217 \n",
      "\n",
      "prediction: ASBMR - American Society for Osteoporosis Research\n",
      "target: NA\n",
      "F1: 0, Exact: 0\n",
      "\n"
     ]
    }
   ],
   "source": [
    "batch = next(val_dataloader)\n",
    "cuda_batch = {}\n",
    "for k, v in batch.items():\n",
    "    if k in [\"document\", \"target_text\", \"input_text\"]:\n",
    "        cuda_batch[k] = v\n",
    "    else:\n",
    "        cuda_batch[k] = v.cuda()  \n",
    "batch = cuda_batch\n",
    "tokenizer = model.tokenizer\n",
    "\n",
    "with torch.no_grad():\n",
    "    output = model(batch)\n",
    "\n",
    "output_text = [tokenizer.decode(out, skip_special_tokens=True) for out in output]\n",
    "tgt_text = batch[\"target_text\"]\n",
    "question = batch[\"input_text\"]\n",
    "for i in range(10):\n",
    "    print(f\"input_text: {question[i]}\\n\")\n",
    "    print(f\"prediction: {output_text[i]}\\ntarget: {tgt_text[i]}\\nF1: {compute_f1(output_text[i], tgt_text[i])}, Exact: {compute_exact(output_text[i], tgt_text[i])}\\n\")"
   ]
  },
  {
   "cell_type": "markdown",
   "metadata": {},
   "source": [
    "# LayoutLMT5 model"
   ]
  },
  {
   "cell_type": "code",
   "execution_count": 13,
   "metadata": {},
   "outputs": [
    {
     "name": "stdout",
     "output_type": "stream",
     "text": [
      "Initializing LayoutLM...\n"
     ]
    },
    {
     "name": "stderr",
     "output_type": "stream",
     "text": [
      "Freezing LayoutLM...: 203it [00:00, 88059.13it/s]\n"
     ]
    },
    {
     "name": "stdout",
     "output_type": "stream",
     "text": [
      "Initializing T5...\n"
     ]
    },
    {
     "name": "stderr",
     "output_type": "stream",
     "text": [
      "Some weights of the model checkpoint at t5-base were not used when initializing T5ForConditionalGeneration: ['decoder.block.0.layer.1.EncDecAttention.relative_attention_bias.weight']\n",
      "- This IS expected if you are initializing T5ForConditionalGeneration from the checkpoint of a model trained on another task or with another architecture (e.g. initializing a BertForSequenceClassification model from a BertForPreTraining model).\n",
      "- This IS NOT expected if you are initializing T5ForConditionalGeneration from the checkpoint of a model that you expect to be exactly identical (initializing a BertForSequenceClassification model from a BertForSequenceClassification model).\n"
     ]
    },
    {
     "name": "stdout",
     "output_type": "stream",
     "text": [
      "val DocVQA folder data/raw/val tokenizer PreTrainedTokenizer(name_or_path='microsoft/layoutlm-base-uncased', vocab_size=30522, model_max_len=512, is_fast=False, padding_side='right', special_tokens={'unk_token': '[UNK]', 'sep_token': '[SEP]', 'pad_token': '[PAD]', 'cls_token': '[CLS]', 'mask_token': '[MASK]'}) transform None seq_len 512 no_image True\n"
     ]
    }
   ],
   "source": [
    "model = LayoutLMT5.load_from_checkpoint(\"models/frozen_llm/frozen_llm-epoch=8-val_loss=0.00-val_extact_match=0.00-val_f1=0.00.ckpt\", strict=False).eval().cuda()\n",
    "model.hparams.bs = 10\n",
    "val_dataloader = iter(model.val_dataloader())"
   ]
  },
  {
   "cell_type": "code",
   "execution_count": 14,
   "metadata": {},
   "outputs": [
    {
     "name": "stdout",
     "output_type": "stream",
     "text": [
      "input_text: question: What is the page no mentioned in this document? input: Procter & Gamble: Diapers In an effort to regain branded market share, Procter & Gamble is returning to a brand equity strategy. 1923 Initiatives . Increase advertising -Performance, Value Positionings -Major TV Campaign . Roll-out disposable training pants . Test 50% thinner diapers (same as KC new product) 51336 9526 16 \n",
      "\n",
      "prediction: $ 1, 000\n",
      "target: 0.28\n",
      "F1: 0, Exact: 0\n",
      "\n",
      "input_text: question: Who supported the workshop? input: MEHARRY MEDICAL COLLEGE CENTER FOR NUTRITION ARR MEDICAL COL 3931 1 NASHVILLE TENNESSEE FIRST NUTRITION WORKSHOP \"THE IMPACT OF NUTRITION ON HEALTH AND DISEASE IN BLACKS AND OTHER MINORITIES\" OCTOBER 28-30, 1987 LECTURE HALL #3 S.S. KRESGE LEARNING RESOURCES CENTER SUPPORTED BY: GENERAL FOODS FUND, INC. \n",
      "\n",
      "prediction: university of california\n",
      "target: university of california\n",
      "F1: 1.0, Exact: 1\n",
      "\n",
      "input_text: question: What is written in the picture of title 'John Players Jeans'? input: FMCG : Select Launches 2011-12 Wendell Rodricks Now At Wills Lifestyle Wendell Rodricks Joins leading indian designers - Hong Bal, Rajesh Pratap Singh, JJ Valaya, Satya Paul, Ranna Gill, Rohit Gandhi and Rahul Khanna to present a bouquet oferings in collaboration with Wills Lifestyle. Wills Classic Wonderpress Shirts insists with advanced liquid ammonia westment and moist cure to give a sharp and wrinkle fres look. John Players Jeans John Players Jeans gives one the perfect vintage look with its comprehensive collection of urban styled denims in textured yams, in slim and regular fits, with a variety of johnplayers distressed finishes. oold Flake Kings Gold Flake Filter Royal Special Filter Scissors Menthol Fresh Make Kings has been Menthol Fresh relaunched a Royal Special Filter has markou ched across key been launched in Uttar has been launched in Pradesh and Kerala vala and GOLD FLAKE GOLD FLAKE ROYAL SCISSORS Source: https://www.industrydocuments.ucsf.edu/docs/rnbx0223 \n",
      "\n",
      "prediction: rjr\n",
      "target: itc limited\n",
      "F1: 0, Exact: 0\n",
      "\n",
      "input_text: question: In which states the brand 'Royal Special Filter' has been launched? input: FMCG : Select Launches 2011-12 Wendell Rodricks Now At Wills Lifestyle Wendell Rodricks Joins leading indian designers - Hong Bal, Rajesh Pratap Singh, JJ Valaya, Satya Paul, Ranna Gill, Rohit Gandhi and Rahul Khanna to present a bouquet oferings in collaboration with Wills Lifestyle. Wills Classic Wonderpress Shirts insists with advanced liquid ammonia westment and moist cure to give a sharp and wrinkle fres look. John Players Jeans John Players Jeans gives one the perfect vintage look with its comprehensive collection of urban styled denims in textured yams, in slim and regular fits, with a variety of johnplayers distressed finishes. oold Flake Kings Gold Flake Filter Royal Special Filter Scissors Menthol Fresh Make Kings has been Menthol Fresh relaunched a Royal Special Filter has markou ched across key been launched in Uttar has been launched in Pradesh and Kerala vala and GOLD FLAKE GOLD FLAKE ROYAL SCISSORS Source: https://www.industrydocuments.ucsf.edu/docs/rnbx0223 \n",
      "\n",
      "prediction: new york\n",
      "target: san diego\n",
      "F1: 0, Exact: 0\n",
      "\n",
      "input_text: question: How many children were found to be unsatisfactory for study and returned ? input: SECTION 1 STUDIES ON THE EFFECT OF MILK PROTEIN DILUTION IN CHILDREN AT M. I. T. Studies on the effect of dilution of skim milk protein were commenced on fourteen mentally retarded children. Of these fourteen children, seven were found to be unsatisfactory for study and returned, within two weeks of admission to the M. I. T. Clinical Center, to their respective State schools. Details of experimental design, diet, and analytical procedures were previously described in the 1967 Annual Progress Report and are further described in Section 3 of this report. Details are given in Table 2 for the seven children who were studied during the entire experimental period. Table 2 Age and weight of children and experimental design used for studies of milk protein dilution Subject Age Initial Wt. Final Wt. Days on Days on (yrs. ) ( 1b. ) (1b. ) Baseline Diet Dilution P. K. 61.5 58. 5 18 20 W. M. 33.0 36, 0 26 83 C. R. 33.0 35.0 25 32 R. O'C. 34. 0 36.0 33 32 B. L. 41.0 43.0 29 40 S. D. 35.0 37.0 25 12 J. W. Z2. 0 23.5 40 30 1. Dilution at 20% level. Source: https://www.industrydocuments.ucsf.edu/docs/hldg0227 \n",
      "\n",
      "prediction: dr. darby\n",
      "target: Paul\n",
      "F1: 0, Exact: 0\n",
      "\n",
      "input_text: question: What was Final Wt of the child who had an initial Wt of 61.5 lbs ? input: SECTION 1 STUDIES ON THE EFFECT OF MILK PROTEIN DILUTION IN CHILDREN AT M. I. T. Studies on the effect of dilution of skim milk protein were commenced on fourteen mentally retarded children. Of these fourteen children, seven were found to be unsatisfactory for study and returned, within two weeks of admission to the M. I. T. Clinical Center, to their respective State schools. Details of experimental design, diet, and analytical procedures were previously described in the 1967 Annual Progress Report and are further described in Section 3 of this report. Details are given in Table 2 for the seven children who were studied during the entire experimental period. Table 2 Age and weight of children and experimental design used for studies of milk protein dilution Subject Age Initial Wt. Final Wt. Days on Days on (yrs. ) ( 1b. ) (1b. ) Baseline Diet Dilution P. K. 61.5 58. 5 18 20 W. M. 33.0 36, 0 26 83 C. R. 33.0 35.0 25 32 R. O'C. 34. 0 36.0 33 32 B. L. 41.0 43.0 29 40 S. D. 35.0 37.0 25 12 J. W. Z2. 0 23.5 40 30 1. Dilution at 20% level. Source: https://www.industrydocuments.ucsf.edu/docs/hldg0227 \n",
      "\n",
      "prediction: new york\n",
      "target: 1128 SIXTEENTH ST., N. W., WASHINGTON, D. C. 20036\n",
      "F1: 0, Exact: 0\n",
      "\n",
      "input_text: question: How many days were the subject J.W. on baseline diet ? input: SECTION 1 STUDIES ON THE EFFECT OF MILK PROTEIN DILUTION IN CHILDREN AT M. I. T. Studies on the effect of dilution of skim milk protein were commenced on fourteen mentally retarded children. Of these fourteen children, seven were found to be unsatisfactory for study and returned, within two weeks of admission to the M. I. T. Clinical Center, to their respective State schools. Details of experimental design, diet, and analytical procedures were previously described in the 1967 Annual Progress Report and are further described in Section 3 of this report. Details are given in Table 2 for the seven children who were studied during the entire experimental period. Table 2 Age and weight of children and experimental design used for studies of milk protein dilution Subject Age Initial Wt. Final Wt. Days on Days on (yrs. ) ( 1b. ) (1b. ) Baseline Diet Dilution P. K. 61.5 58. 5 18 20 W. M. 33.0 36, 0 26 83 C. R. 33.0 35.0 25 32 R. O'C. 34. 0 36.0 33 32 B. L. 41.0 43.0 29 40 S. D. 35.0 37.0 25 12 J. W. Z2. 0 23.5 40 30 1. Dilution at 20% level. Source: https://www.industrydocuments.ucsf.edu/docs/hldg0227 \n",
      "\n",
      "prediction: rjr\n",
      "target: aashirvaad\n",
      "F1: 0, Exact: 0\n",
      "\n",
      "input_text: question: How many days were the subject J.W. on dilution ? input: SECTION 1 STUDIES ON THE EFFECT OF MILK PROTEIN DILUTION IN CHILDREN AT M. I. T. Studies on the effect of dilution of skim milk protein were commenced on fourteen mentally retarded children. Of these fourteen children, seven were found to be unsatisfactory for study and returned, within two weeks of admission to the M. I. T. Clinical Center, to their respective State schools. Details of experimental design, diet, and analytical procedures were previously described in the 1967 Annual Progress Report and are further described in Section 3 of this report. Details are given in Table 2 for the seven children who were studied during the entire experimental period. Table 2 Age and weight of children and experimental design used for studies of milk protein dilution Subject Age Initial Wt. Final Wt. Days on Days on (yrs. ) ( 1b. ) (1b. ) Baseline Diet Dilution P. K. 61.5 58. 5 18 20 W. M. 33.0 36, 0 26 83 C. R. 33.0 35.0 25 32 R. O'C. 34. 0 36.0 33 32 B. L. 41.0 43.0 29 40 S. D. 35.0 37.0 25 12 J. W. Z2. 0 23.5 40 30 1. Dilution at 20% level. Source: https://www.industrydocuments.ucsf.edu/docs/hldg0227 \n",
      "\n",
      "prediction: dr. robert e. shank\n",
      "target: The Robert A. Welch Foundation\n",
      "F1: 0.22222222222222224, Exact: 0\n",
      "\n",
      "input_text: question: What is the age of subject B.L. ? input: SECTION 1 STUDIES ON THE EFFECT OF MILK PROTEIN DILUTION IN CHILDREN AT M. I. T. Studies on the effect of dilution of skim milk protein were commenced on fourteen mentally retarded children. Of these fourteen children, seven were found to be unsatisfactory for study and returned, within two weeks of admission to the M. I. T. Clinical Center, to their respective State schools. Details of experimental design, diet, and analytical procedures were previously described in the 1967 Annual Progress Report and are further described in Section 3 of this report. Details are given in Table 2 for the seven children who were studied during the entire experimental period. Table 2 Age and weight of children and experimental design used for studies of milk protein dilution Subject Age Initial Wt. Final Wt. Days on Days on (yrs. ) ( 1b. ) (1b. ) Baseline Diet Dilution P. K. 61.5 58. 5 18 20 W. M. 33.0 36, 0 26 83 C. R. 33.0 35.0 25 32 R. O'C. 34. 0 36.0 33 32 B. L. 41.0 43.0 29 40 S. D. 35.0 37.0 25 12 J. W. Z2. 0 23.5 40 30 1. Dilution at 20% level. Source: https://www.industrydocuments.ucsf.edu/docs/hldg0227 \n",
      "\n",
      "prediction: 12 : 00 noon\n",
      "target: 11:14 to 11:39 a.m.\n",
      "F1: 0, Exact: 0\n",
      "\n",
      "input_text: question: What was the initial wt. of subject C.R. ? input: SECTION 1 STUDIES ON THE EFFECT OF MILK PROTEIN DILUTION IN CHILDREN AT M. I. T. Studies on the effect of dilution of skim milk protein were commenced on fourteen mentally retarded children. Of these fourteen children, seven were found to be unsatisfactory for study and returned, within two weeks of admission to the M. I. T. Clinical Center, to their respective State schools. Details of experimental design, diet, and analytical procedures were previously described in the 1967 Annual Progress Report and are further described in Section 3 of this report. Details are given in Table 2 for the seven children who were studied during the entire experimental period. Table 2 Age and weight of children and experimental design used for studies of milk protein dilution Subject Age Initial Wt. Final Wt. Days on Days on (yrs. ) ( 1b. ) (1b. ) Baseline Diet Dilution P. K. 61.5 58. 5 18 20 W. M. 33.0 36, 0 26 83 C. R. 33.0 35.0 25 32 R. O'C. 34. 0 36.0 33 32 B. L. 41.0 43.0 29 40 S. D. 35.0 37.0 25 12 J. W. Z2. 0 23.5 40 30 1. Dilution at 20% level. Source: https://www.industrydocuments.ucsf.edu/docs/hldg0227 \n",
      "\n",
      "prediction: $ 1, 000. 00\n",
      "target: $975.00\n",
      "F1: 0, Exact: 0\n",
      "\n"
     ]
    }
   ],
   "source": [
    "batch = next(val_dataloader)\n",
    "cuda_batch = {}\n",
    "for k, v in batch.items():\n",
    "    if k in [\"document\", \"target_text\", \"input_text\"]:\n",
    "        cuda_batch[k] = v\n",
    "    else:\n",
    "        cuda_batch[k] = v.cuda()  \n",
    "batch = cuda_batch\n",
    "tokenizer = model.tokenizer\n",
    "\n",
    "with torch.no_grad():\n",
    "    output = model(batch)\n",
    "\n",
    "output_text = [tokenizer.decode(out, skip_special_tokens=True) for out in output]\n",
    "tgt_text = batch[\"target_text\"]\n",
    "for i in range(10):\n",
    "    print(f\"input_text: {question[i]}\\n\")\n",
    "    print(f\"prediction: {output_text[i]}\\ntarget: {tgt_text[i]}\\nF1: {compute_f1(output_text[i], tgt_text[i])}, Exact: {compute_exact(output_text[i], tgt_text[i])}\\n\")"
   ]
  },
  {
   "cell_type": "markdown",
   "metadata": {},
   "source": [
    "# Layout Embeddings T5"
   ]
  },
  {
   "cell_type": "code",
   "execution_count": 4,
   "metadata": {
    "scrolled": true
   },
   "outputs": [
    {
     "name": "stdout",
     "output_type": "stream",
     "text": [
      "Initializing T5...\n"
     ]
    },
    {
     "name": "stderr",
     "output_type": "stream",
     "text": [
      "Some weights of the model checkpoint at t5-base were not used when initializing T5ForConditionalGeneration: ['decoder.block.0.layer.1.EncDecAttention.relative_attention_bias.weight']\n",
      "- This IS expected if you are initializing T5ForConditionalGeneration from the checkpoint of a model trained on another task or with another architecture (e.g. initializing a BertForSequenceClassification model from a BertForPreTraining model).\n",
      "- This IS NOT expected if you are initializing T5ForConditionalGeneration from the checkpoint of a model that you expect to be exactly identical (initializing a BertForSequenceClassification model from a BertForSequenceClassification model).\n"
     ]
    },
    {
     "name": "stdout",
     "output_type": "stream",
     "text": [
      "Initializing layoutlm embeddings\n",
      "test DocVQA folder data/raw/test tokenizer PreTrainedTokenizer(name_or_path='t5-base', vocab_size=32100, model_max_len=512, is_fast=False, padding_side='right', special_tokens={'eos_token': '</s>', 'unk_token': '<unk>', 'pad_token': '<pad>', 'additional_special_tokens': ['<extra_id_0>', '<extra_id_1>', '<extra_id_2>', '<extra_id_3>', '<extra_id_4>', '<extra_id_5>', '<extra_id_6>', '<extra_id_7>', '<extra_id_8>', '<extra_id_9>', '<extra_id_10>', '<extra_id_11>', '<extra_id_12>', '<extra_id_13>', '<extra_id_14>', '<extra_id_15>', '<extra_id_16>', '<extra_id_17>', '<extra_id_18>', '<extra_id_19>', '<extra_id_20>', '<extra_id_21>', '<extra_id_22>', '<extra_id_23>', '<extra_id_24>', '<extra_id_25>', '<extra_id_26>', '<extra_id_27>', '<extra_id_28>', '<extra_id_29>', '<extra_id_30>', '<extra_id_31>', '<extra_id_32>', '<extra_id_33>', '<extra_id_34>', '<extra_id_35>', '<extra_id_36>', '<extra_id_37>', '<extra_id_38>', '<extra_id_39>', '<extra_id_40>', '<extra_id_41>', '<extra_id_42>', '<extra_id_43>', '<extra_id_44>', '<extra_id_45>', '<extra_id_46>', '<extra_id_47>', '<extra_id_48>', '<extra_id_49>', '<extra_id_50>', '<extra_id_51>', '<extra_id_52>', '<extra_id_53>', '<extra_id_54>', '<extra_id_55>', '<extra_id_56>', '<extra_id_57>', '<extra_id_58>', '<extra_id_59>', '<extra_id_60>', '<extra_id_61>', '<extra_id_62>', '<extra_id_63>', '<extra_id_64>', '<extra_id_65>', '<extra_id_66>', '<extra_id_67>', '<extra_id_68>', '<extra_id_69>', '<extra_id_70>', '<extra_id_71>', '<extra_id_72>', '<extra_id_73>', '<extra_id_74>', '<extra_id_75>', '<extra_id_76>', '<extra_id_77>', '<extra_id_78>', '<extra_id_79>', '<extra_id_80>', '<extra_id_81>', '<extra_id_82>', '<extra_id_83>', '<extra_id_84>', '<extra_id_85>', '<extra_id_86>', '<extra_id_87>', '<extra_id_88>', '<extra_id_89>', '<extra_id_90>', '<extra_id_91>', '<extra_id_92>', '<extra_id_93>', '<extra_id_94>', '<extra_id_95>', '<extra_id_96>', '<extra_id_97>', '<extra_id_98>', '<extra_id_99>']}) transform None seq_len 512 no_image True tgt_seq_len 32\n"
     ]
    }
   ],
   "source": [
    "model = LayoutLMT5.load_from_checkpoint(\"models/llmemb_32_6/llmemb_32_6-epoch=28-val_exact_match=0.49-val_f1=0.58.ckpt\", strict=False).eval().cuda()\n",
    "model.hparams.bs = 10\n",
    "val_dataloader = iter(model.test_dataloader())"
   ]
  },
  {
   "cell_type": "code",
   "execution_count": 5,
   "metadata": {},
   "outputs": [
    {
     "name": "stdout",
     "output_type": "stream",
     "text": [
      "input_text: question: What is the dividend payout in 2012? input: ITC Limited . Report and Accounts 2012 Net Worth Crores * Crores CAGR 16% CAGR 19% 18782 2607 1121 1996 2001 2006 2007 2008 2009 2010 2011 2012 1996 2001 2006 2007 2008 2009 2010 2011 2012 Crores CAGR 19% CAGR 30% 1996 2001 2006 2007 2008 2009 : 2010 2011 2012 1996 2 2006 2007 2008 2009 2010 2011 2012 Inclusive of Dividend Distribution Tax 2010-Special Centenary Dividend 2011-Special Dividend on 100th AGM Earnings And Dividend Per Share (Adjusted' 8/ 40% 30% 6 20% 10% 2 0% -10% L. 16 years 10 years 5 years 3 years 1996 2001 2006 2007 2008 2009 2010 2011 2012 1 year BSE FMCG Index Earning Per Share Dividend Per Share Special Dividend Per Share BSE Sensex ITC BSE FMCG Index commenced from 2000 Dividend Per Share and Dividend Payout for 2012 is based on the Board's recommendation to Members ^ Refer Page 176 for details of Adjusted Earnings/ Dividends/Net Worth per share Source: https://www.industrydocuments.ucsf.edu/docs/rnbx0223 \n",
      "\n",
      "prediction: 0\n",
      "target: NA\n",
      "F1: 0, Exact: 0\n",
      "\n",
      "input_text: question: What is the name of the person in the CC field ? input: MEMORANDUM TO : W. C. Combs Product Recovery Department FROM : Jo Spach public Relations DATE : February 27, 1992 SUBJECT: Unauthorized Cigarettes Enclosed are a number of unopened packs of RJR-brand cigarettes sent to us unsolicited. Please destroy these cigarettes without entry into company records If you have any questions, call me at ext. 7240. Jo Spach RJRT Public Relations cc: Betty Royal Tax Department 51360 0797 \n",
      "\n",
      "prediction: Betty Royal Tax Department\n",
      "target: NA\n",
      "F1: 0, Exact: 0\n",
      "\n",
      "input_text: question: What is the % of Employees in 2012 based on graph 'Distribution of Value-Added'? input: FINANCIAL HIGHLIGHTS 40000 18000 36000 16000 32000 14000 Crores 28000 12000 24000 Crores 10000 20000 8000 16000 6000 12000 4000 8000 2000 03 04 05 06 07 08 09 10 11 12 03 04 05 06 07 08 09 10 11 12 wwwwwww. Gross Income in 2011-12: $ 36073 Crores wwwwwww Non Cigarettes Segment Revenue Contribu Distribution Of Value 18000 [ 26000 5% 23000 16000 20000 5% 14000 Crores i Crores 17000 12000 14000 5% 10000 1 100 8000 8000 5000 5000 4000 03 04 05 06 07 08 09 10 11 12 2000 2008 2009 2010 2011 2012 wwwwwww Contribution in 2011-12: < 17936 Crores Exchequer Providers of Capital Employees Note: Includes Excise, Service Tax, VAT, Income Tax, Hotel Luxury Taxes etc. Return On Total Asset 190000 34 70000 32 150000 30 f Crores 130000 1 10000 28 90000 26 70000 50000 24 30000 22 10000 hangs 20 03 04 05 06 07 08 09 10 11 12 03 04 05 06 07 08 09 10 11 12 wwwwwww Market Capitalisation based on BSE closing prices wowwow wow Return on Total Assets \"Computed as PBIT divided by total Assets as on Balance Sheet Date These graphs depict the standalone financial position Source: https://www.industrydocuments.ucsf.edu/docs/rnbx0223 \n",
      "\n",
      "prediction: 5%\n",
      "target: NA\n",
      "F1: 0, Exact: 0\n",
      "\n",
      "input_text: question: What is the personnel costs in the 4th year? input: SECTION II - PRIVILEGED COMMUNICATION HARVARD UNIVERSITY, ROCHE ALEX F. 370 56 0985 BUDGET ESTIMATES FOR ALL YEARS OF SUPPORT REQUESTED FROM PUBLIC HEALTH SERVICE DIRECT COSTS ONLY (Omit Cents) DESCRIPTION STIPERIOD ADDITIONAL YEARS SUPPORT REQUESTED (This application only) AILED BUDGET) | 2ND YEAR 3RD YEAR 4TH YEAR 5TH YEAR 6TH YEAR | 7TH YEAR PERSONNEL COSTS 17,730 18,971 20, 299 21, 720 CONSULTANT COSTS Include fees, travel, etc.) - -- EQUIPMENT SUPPLIES 400 400 400 400 TRAVEL DOMESTIC FOREIGN - - - PATIENT COSTS - --- ALTERATIONS AND RENOVATIONS --- Other Expenses 1, 870 1, 870 1, 870 1, 870 Total Direct Costs 20 , 000 21, 241 22, 569 23, 990 Indirect Costs 6, 300 6, 741 7,313 7, 718 Total Costs 26 , 300 27 ,982 29, 882 31, 708 TOTAL FOR ENTIRE PROPOSED PROJECT PERIOD (Enter on Page 1, Item 4) $115, 872. REMARKS: Justify all costs for the first year for which the need may not be obvious. For future years, justify equipment costs, as well as any significant increases in any other category. If a recurring annual increase in personnel costs is requested, give percentage. (Use continuation page if needed.) I. Valadian: Will select and plan content of the three investigations. Will direct the writing and review the literature. R. Reed: Will plan and supervise the statistical analysis of the three topics. K. Halvorsen: Will carry out statistical analysis, coding and programming statistician) under the direction of Dr. Robert Reed. Supplies: Pens, pencils, paper, xeroxing. Computer and Computer Time: coding and programming of data collected. Storing of data for projects. MIN 398 (FORMERLY PHS 398) Rev. 1/73 Page 22 January, 1980 Sou /www.industrydocuments.ucsf.edu/docs/hrfw0227 \n",
      "\n",
      "prediction: 18,971\n",
      "target: NA\n",
      "F1: 0, Exact: 0\n",
      "\n",
      "input_text: question: What is the % of 'Providers of Capital' in the year 2010 based on 'Distribution of Value-Added' graph? input: FINANCIAL HIGHLIGHTS 40000 18000 36000 16000 32000 14000 Crores 28000 12000 24000 Crores 10000 20000 8000 16000 6000 12000 4000 8000 2000 03 04 05 06 07 08 09 10 11 12 03 04 05 06 07 08 09 10 11 12 wwwwwww. Gross Income in 2011-12: $ 36073 Crores wwwwwww Non Cigarettes Segment Revenue Contribu Distribution Of Value 18000 [ 26000 5% 23000 16000 20000 5% 14000 Crores i Crores 17000 12000 14000 5% 10000 1 100 8000 8000 5000 5000 4000 03 04 05 06 07 08 09 10 11 12 2000 2008 2009 2010 2011 2012 wwwwwww Contribution in 2011-12: < 17936 Crores Exchequer Providers of Capital Employees Note: Includes Excise, Service Tax, VAT, Income Tax, Hotel Luxury Taxes etc. Return On Total Asset 190000 34 70000 32 150000 30 f Crores 130000 1 10000 28 90000 26 70000 50000 24 30000 22 10000 hangs 20 03 04 05 06 07 08 09 10 11 12 03 04 05 06 07 08 09 10 11 12 wwwwwww Market Capitalisation based on BSE closing prices wowwow wow Return on Total Assets \"Computed as PBIT divided by total Assets as on Balance Sheet Date These graphs depict the standalone financial position Source: https://www.industrydocuments.ucsf.edu/docs/rnbx0223 \n",
      "\n",
      "prediction: 5%\n",
      "target: NA\n",
      "F1: 0, Exact: 0\n",
      "\n",
      "input_text: question: What is the table number? input: Table II Effects of Cold-acclimatization upon Activities of Rate-limiting Enzymes within the Liver Lobule of Fed and Fasted Rats Ambient 4 24 C p P. for b. for b. f Temperature Difference Difference Difference Nutrition between between between 12 Hours before Fed Fasted Fed Fasted Periportal Rats Fasted Sacrifice and Central Exposed and Fed Area of mu moles/ug protein/hour Areas of to 240c Rats a . Enzyme Lobule Lobules and 4 c Glycogen Periportal 0. 299 0.258 0. 371 0.256 0. 245 0.224 0.260 0.215 <0.001 <0. 10 40 . 05 Synthetase Central NS NS Glucokinase Periportal 0. 039 0. 040 0.143 0.161 <0. 05 NS Central 0. 334 0.301 0.509 0.433 <0. 001 <0.05 40. 05 Hexokinase Periportal 0.382 0.253 0.491 0.228 NS NS 40.01 Central 0. 349 0.244 0.382 0.244 NS <0. 05 Phospho- Periportal 0. 707 0. 819 0. 920 0.736 d <0. 10 NS Ns fructokinase Central 0. 756 0. 932 0. 949 1. 032 10. 05 <0. 05 Fructose Periportal 12.50 10.09 11.72 8.59 <0. 001 <0. 10 <0.05 Diphosphatase Central 4.41 5.16 3.76 4.76 NS NS Glucose Periportal 68.86 72.25 50.02 62.72 <0. 001 <0. 05 <0. 05 6-phosphatase Central 36.57 46.15 29.87 39.39 <0. 05 <0. 001 Glutamic- Periportal 14.52 14.59 14.69 13.41 0. 10d NS pyruvic Central 4.55 3.97 3.59 3.06 0. 001 0. 10 0. 10 transaminase a. Animals were either fed or fasted for 12 hours after 1 month exposure to ambient temperatures of 24 C or 4 C. b. Probability of differences occurring by chance according to analysis of variance; NS, difference nonsignificant. c. Significant by Student t-test for fed rats. d. Significant by Student t-test for fasted rats. e. Significant by Student t-test for 240 C-acclimatized rats. Source: \n",
      "\n",
      "prediction: II\n",
      "target: NA\n",
      "F1: 0, Exact: 0\n",
      "\n",
      "input_text: question: What is the Log-in No. ? input: RJRT/RESEARCH & DEVELOPMENT DOCUMENTATION APPROVAL FORM Log-in No. 88- NAME : William M. Coleman, III TYPE OF DOCUMENTATION: X Abstract TITLE : Sr. R&D Chemist Research Manuscript Oral Presentation DIVISION: Analytical Research Other RJRT/R&D R&DM or DATE : June 7, 1988 R&DR Number & Date MAIL ADDRESS : 611-13E/002 Extension: 5177 DOCUMENT TITLE:_ \"Mainstream Particulate Phase Comparison of a Reference Cigarette and a Cigarette That Heats Rather Than Burns Tobacco\" AUTHOR (S) /CO-AUTHOR (S) :_W. M. Coleman, III. H. L. Chung, D. S. Moore, E. L. White, B. M. Gordon, M. S. Uhrig, J. A. Giles, J. F. Elder, Jr., M. F. Borgerding, and R. D. Hicks. PURPOSE OF DOCUMENT PUBLICATION IN: PRESENTATION AT: 42nd Tobacco Chemists' Research Conference LOCATION: Lexington, Kentucky Date: _ October 2-5, 1988 Other pertinent information: Abstract due no later than June 24, 1988. Your signatures on this form indicate that: . to the best of your knowledge, the information contained in the document to be published/presented is not proprietary and the technical quality reflects positively on the image of RJRT and its R&D Departments. Author (s) , cuntsfamanut Date: 7jun1998 Managert botany a del Date: 6 -8 - 8 8 Director: Date: 51336 8059 \n",
      "\n",
      "prediction: 88\n",
      "target: NA\n",
      "F1: 0, Exact: 0\n",
      "\n",
      "input_text: question: What is the % of Exchequer in 2008 based on 'Distribution of Value-Added' graph? input: FINANCIAL HIGHLIGHTS 40000 18000 36000 16000 32000 14000 Crores 28000 12000 24000 Crores 10000 20000 8000 16000 6000 12000 4000 8000 2000 03 04 05 06 07 08 09 10 11 12 03 04 05 06 07 08 09 10 11 12 wwwwwww. Gross Income in 2011-12: $ 36073 Crores wwwwwww Non Cigarettes Segment Revenue Contribu Distribution Of Value 18000 [ 26000 5% 23000 16000 20000 5% 14000 Crores i Crores 17000 12000 14000 5% 10000 1 100 8000 8000 5000 5000 4000 03 04 05 06 07 08 09 10 11 12 2000 2008 2009 2010 2011 2012 wwwwwww Contribution in 2011-12: < 17936 Crores Exchequer Providers of Capital Employees Note: Includes Excise, Service Tax, VAT, Income Tax, Hotel Luxury Taxes etc. Return On Total Asset 190000 34 70000 32 150000 30 f Crores 130000 1 10000 28 90000 26 70000 50000 24 30000 22 10000 hangs 20 03 04 05 06 07 08 09 10 11 12 03 04 05 06 07 08 09 10 11 12 wwwwwww Market Capitalisation based on BSE closing prices wowwow wow Return on Total Assets \"Computed as PBIT divided by total Assets as on Balance Sheet Date These graphs depict the standalone financial position Source: https://www.industrydocuments.ucsf.edu/docs/rnbx0223 \n",
      "\n",
      "prediction: 5%\n",
      "target: NA\n",
      "F1: 0, Exact: 0\n",
      "\n",
      "input_text: question: What are the two types of rats tested? input: Table II Effects of Cold-acclimatization upon Activities of Rate-limiting Enzymes within the Liver Lobule of Fed and Fasted Rats Ambient 4 24 C p P. for b. for b. f Temperature Difference Difference Difference Nutrition between between between 12 Hours before Fed Fasted Fed Fasted Periportal Rats Fasted Sacrifice and Central Exposed and Fed Area of mu moles/ug protein/hour Areas of to 240c Rats a . Enzyme Lobule Lobules and 4 c Glycogen Periportal 0. 299 0.258 0. 371 0.256 0. 245 0.224 0.260 0.215 <0.001 <0. 10 40 . 05 Synthetase Central NS NS Glucokinase Periportal 0. 039 0. 040 0.143 0.161 <0. 05 NS Central 0. 334 0.301 0.509 0.433 <0. 001 <0.05 40. 05 Hexokinase Periportal 0.382 0.253 0.491 0.228 NS NS 40.01 Central 0. 349 0.244 0.382 0.244 NS <0. 05 Phospho- Periportal 0. 707 0. 819 0. 920 0.736 d <0. 10 NS Ns fructokinase Central 0. 756 0. 932 0. 949 1. 032 10. 05 <0. 05 Fructose Periportal 12.50 10.09 11.72 8.59 <0. 001 <0. 10 <0.05 Diphosphatase Central 4.41 5.16 3.76 4.76 NS NS Glucose Periportal 68.86 72.25 50.02 62.72 <0. 001 <0. 05 <0. 05 6-phosphatase Central 36.57 46.15 29.87 39.39 <0. 05 <0. 001 Glutamic- Periportal 14.52 14.59 14.69 13.41 0. 10d NS pyruvic Central 4.55 3.97 3.59 3.06 0. 001 0. 10 0. 10 transaminase a. Animals were either fed or fasted for 12 hours after 1 month exposure to ambient temperatures of 24 C or 4 C. b. Probability of differences occurring by chance according to analysis of variance; NS, difference nonsignificant. c. Significant by Student t-test for fed rats. d. Significant by Student t-test for fasted rats. e. Significant by Student t-test for 240 C-acclimatized rats. Source: \n",
      "\n",
      "prediction: NS\n",
      "target: NA\n",
      "F1: 0, Exact: 0\n",
      "\n",
      "input_text: question: Which meeting is expected to have the highest ' attendance ' ? input: 14 Agenda for Menopausal Health Publication Management Meeting April 2004, 10:30 AM-12:00 PM, CVCRE5101 VIII. Upcoming Meetings and Deadlines Meeting Meeting Date Submission Attendance Original Deadline (Total N, Material Needed Specialties) NAMS - North American Oct. 7-9, 2004 4/30 1,500 Yes Menopause Society (Washington, DC) ACR/ARHP - American College Oct. 16-21. 5/04 5,000 of Rheumatology/ Association of 2004 Rheumatology Health Professionals (San Antonio, TX) ASRM - American Society for Oct. 16-21, 5/04 4.200 No Reproductive Medicine 2004 (Philadelphia, PA) AAPS - American Association of Nov. 7-11, 5/04 7.500 Yes Pharmaceutical Scientists 2004 (Baltimore, MD) ASBMR - American Society for Oct. 1-5, 2004 5/11/04 5,000 No Bone and Mineral Research (Seattle, WA) ACCP - American College of Oct. 3-5, 2004 5/14/04 250 No Clinical Pharmacology (Phoenix, AZ) ARHP - Association of Sept. 8-11. 5/28/04 400 No Reproductive Health Professionals 2004 (Washington, DC) NOS - National Osteoporosis Nov. 29-Dec. 6/1 1/04 600 Society - Bath Conference on 2, 2004 Osteoporosis (Bath, UK) OARSI - OsteoArthritis Research Dec. 2-5, 2004 6/30/04 1.000 Society International (Chicago, IL) DESIGN134427 Source: https://www.industrydocuments.ucsf.edu/docs/ysbw0217 \n",
      "\n",
      "prediction: NAMS\n",
      "target: NA\n",
      "F1: 0, Exact: 0\n",
      "\n"
     ]
    }
   ],
   "source": [
    "batch = next(val_dataloader)\n",
    "cuda_batch = {}\n",
    "for k, v in batch.items():\n",
    "    if k in [\"document\", \"target_text\", \"input_text\"]:\n",
    "        cuda_batch[k] = v\n",
    "    else:\n",
    "        cuda_batch[k] = v.cuda()  \n",
    "batch = cuda_batch\n",
    "tokenizer = model.tokenizer\n",
    "\n",
    "with torch.no_grad():\n",
    "    output = model(batch)\n",
    "\n",
    "output_text = [tokenizer.decode(out, skip_special_tokens=True) for out in output]\n",
    "tgt_text = batch[\"target_text\"]\n",
    "question = batch[\"input_text\"]\n",
    "for i in range(10):\n",
    "    print(f\"input_text: {question[i]}\\n\")\n",
    "    print(f\"prediction: {output_text[i]}\\ntarget: {tgt_text[i]}\\nF1: {compute_f1(output_text[i], tgt_text[i])}, Exact: {compute_exact(output_text[i], tgt_text[i])}\\n\")"
   ]
  }
 ],
 "metadata": {
  "kernelspec": {
   "display_name": "Python 3",
   "language": "python",
   "name": "python3"
  },
  "language_info": {
   "codemirror_mode": {
    "name": "ipython",
    "version": 3
   },
   "file_extension": ".py",
   "mimetype": "text/x-python",
   "name": "python",
   "nbconvert_exporter": "python",
   "pygments_lexer": "ipython3",
   "version": "3.6.9"
  }
 },
 "nbformat": 4,
 "nbformat_minor": 4
}
