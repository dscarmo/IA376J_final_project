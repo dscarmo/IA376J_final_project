{
 "cells": [
  {
   "cell_type": "code",
   "execution_count": 11,
   "metadata": {},
   "outputs": [],
   "source": [
    "import torch\n",
    "from model import LayoutLMT5\n",
    "from metrics import compute_f1, compute_exact"
   ]
  },
  {
   "cell_type": "code",
   "execution_count": 2,
   "metadata": {},
   "outputs": [
    {
     "name": "stdout",
     "output_type": "stream",
     "text": [
      "Initializing T5...\n"
     ]
    },
    {
     "name": "stderr",
     "output_type": "stream",
     "text": [
      "Some weights of the model checkpoint at t5-base were not used when initializing T5ForConditionalGeneration: ['decoder.block.0.layer.1.EncDecAttention.relative_attention_bias.weight']\n",
      "- This IS expected if you are initializing T5ForConditionalGeneration from the checkpoint of a model trained on another task or with another architecture (e.g. initializing a BertForSequenceClassification model from a BertForPreTraining model).\n",
      "- This IS NOT expected if you are initializing T5ForConditionalGeneration from the checkpoint of a model that you expect to be exactly identical (initializing a BertForSequenceClassification model from a BertForSequenceClassification model).\n"
     ]
    }
   ],
   "source": [
    "model = LayoutLMT5.load_from_checkpoint(\"models/baseline/baseline-epoch=9.ckpt\", strict=False).eval().cuda()"
   ]
  },
  {
   "cell_type": "code",
   "execution_count": 27,
   "metadata": {},
   "outputs": [
    {
     "name": "stdout",
     "output_type": "stream",
     "text": [
      "val DocVQA folder data/raw/val tokenizer PreTrainedTokenizer(name_or_path='t5-base', vocab_size=32100, model_max_len=512, is_fast=False, padding_side='right', special_tokens={'eos_token': '</s>', 'unk_token': '<unk>', 'pad_token': '<pad>', 'additional_special_tokens': ['<extra_id_0>', '<extra_id_1>', '<extra_id_2>', '<extra_id_3>', '<extra_id_4>', '<extra_id_5>', '<extra_id_6>', '<extra_id_7>', '<extra_id_8>', '<extra_id_9>', '<extra_id_10>', '<extra_id_11>', '<extra_id_12>', '<extra_id_13>', '<extra_id_14>', '<extra_id_15>', '<extra_id_16>', '<extra_id_17>', '<extra_id_18>', '<extra_id_19>', '<extra_id_20>', '<extra_id_21>', '<extra_id_22>', '<extra_id_23>', '<extra_id_24>', '<extra_id_25>', '<extra_id_26>', '<extra_id_27>', '<extra_id_28>', '<extra_id_29>', '<extra_id_30>', '<extra_id_31>', '<extra_id_32>', '<extra_id_33>', '<extra_id_34>', '<extra_id_35>', '<extra_id_36>', '<extra_id_37>', '<extra_id_38>', '<extra_id_39>', '<extra_id_40>', '<extra_id_41>', '<extra_id_42>', '<extra_id_43>', '<extra_id_44>', '<extra_id_45>', '<extra_id_46>', '<extra_id_47>', '<extra_id_48>', '<extra_id_49>', '<extra_id_50>', '<extra_id_51>', '<extra_id_52>', '<extra_id_53>', '<extra_id_54>', '<extra_id_55>', '<extra_id_56>', '<extra_id_57>', '<extra_id_58>', '<extra_id_59>', '<extra_id_60>', '<extra_id_61>', '<extra_id_62>', '<extra_id_63>', '<extra_id_64>', '<extra_id_65>', '<extra_id_66>', '<extra_id_67>', '<extra_id_68>', '<extra_id_69>', '<extra_id_70>', '<extra_id_71>', '<extra_id_72>', '<extra_id_73>', '<extra_id_74>', '<extra_id_75>', '<extra_id_76>', '<extra_id_77>', '<extra_id_78>', '<extra_id_79>', '<extra_id_80>', '<extra_id_81>', '<extra_id_82>', '<extra_id_83>', '<extra_id_84>', '<extra_id_85>', '<extra_id_86>', '<extra_id_87>', '<extra_id_88>', '<extra_id_89>', '<extra_id_90>', '<extra_id_91>', '<extra_id_92>', '<extra_id_93>', '<extra_id_94>', '<extra_id_95>', '<extra_id_96>', '<extra_id_97>', '<extra_id_98>', '<extra_id_99>']}) transform None seq_len 512 no_image True\n"
     ]
    }
   ],
   "source": [
    "model.hparams.bs = 10\n",
    "val_dataloader = model.val_dataloader()"
   ]
  },
  {
   "cell_type": "code",
   "execution_count": 28,
   "metadata": {},
   "outputs": [
    {
     "data": {
      "text/plain": [
       "{'document': ['NA', 'NA', 'NA', 'NA', 'NA', 'NA', 'NA', 'NA', 'NA', 'NA'],\n",
       " 'input_ids': tensor([[ 822,   10,  363,  ...,    0,    0,    0],\n",
       "         [ 822,   10,  363,  ...,    0,    0,    0],\n",
       "         [ 822,   10,  363,  ...,    0,    0,    0],\n",
       "         ...,\n",
       "         [ 822,   10,  363,  ...,    0,    0,    0],\n",
       "         [ 822,   10,  363,  ...,    0,    0,    0],\n",
       "         [ 822,   10, 2150,  ...,    0,    0,    0]]),\n",
       " 'token_type_ids': tensor([[0, 0, 0,  ..., 0, 0, 0],\n",
       "         [0, 0, 0,  ..., 0, 0, 0],\n",
       "         [0, 0, 0,  ..., 0, 0, 0],\n",
       "         ...,\n",
       "         [0, 0, 0,  ..., 0, 0, 0],\n",
       "         [0, 0, 0,  ..., 0, 0, 0],\n",
       "         [0, 0, 0,  ..., 0, 0, 0]]),\n",
       " 'attention_mask': tensor([[1, 1, 1,  ..., 0, 0, 0],\n",
       "         [1, 1, 1,  ..., 0, 0, 0],\n",
       "         [1, 1, 1,  ..., 0, 0, 0],\n",
       "         ...,\n",
       "         [1, 1, 1,  ..., 0, 0, 0],\n",
       "         [1, 1, 1,  ..., 0, 0, 0],\n",
       "         [1, 1, 1,  ..., 0, 0, 0]]),\n",
       " 'input_text': ['question: What is the ‘actual’ value per 1000, during the year 1975? input: FIGURE C. 2. AGE ADJUSTED MOTOR VEHICLE ACCIDENT MORTALITY RATE 0.3 CANADA 8.28 8.26 8.24 8.22 0.2 1958 1955 1968 1965 1978 1975 1980 D. ACTUAL MULTIVARIATE PREDICTOR ',\n",
       "  'question: What is name of university? input: UNIVERSITY OF CALIFORNIA, SAN DIEGO To Date Time WHILE YOU WERE OUT Mr. Ms. From Telephoned Jasips Clinic [ Will phone again [.Please phone OCame to see you [] Will come again JRush MESSAGE Taken by \"Barce https://www.industrydocuments.ucsf.edu/docs/nkbl0226 ',\n",
       "  \"question: What is the name of the company? input: ITC Limited REPORT AND ACCOUNTS 2013 ITC's Brands: An Asset for the Nation The consumer needs and aspirations Flama they fulfil, the benefit they generate for millions across ITC's value chains, the future-ready capabilities that support Nourishment for all ages them, and the value that they create for the country, have made ITC's brands national assets, adding to India's AASHIRVAAD competitiveness. MULTIGRAINS It is ITC's aspiration to be the No 1 FMCG player in the country, driven by ts new FMCG businesses. A recent LOVE DELIGHTFULLY Nielsen report has highlighted that ITC's SOFT SKIN? new FMCG businesses are the fastest GET INDIA'S FIRST GEL BAR t has Moisture Lock for softness round the clock . growing among the top consumer OR CONDITIONERS goods companies operating in India. ITC takes justifiable pride that, along with generating economic value, these Frama celebrated Indian brands also drive the creation of larger societal capital Dark NATURET through the virtuous cycle of Fantasy #BeYOUNG sustainable and inclusive growth. Choco Film Coffee? Chocolate? Or both? Cell renew fight skin damage cell level Escape into one BINGO! CLASSMACE WILLS LIFESTYLE Source: https://www.industrydocuments.ucsf.edu/docs/snbx0223 \",\n",
       "  'question: Where is the university located ? input: UNIVERSITY OF CALIFORNIA, SAN DIEGO To Date Time WHILE YOU WERE OUT Mr. Ms. From Telephoned Jasips Clinic [ Will phone again [.Please phone OCame to see you [] Will come again JRush MESSAGE Taken by \"Barce https://www.industrydocuments.ucsf.edu/docs/nkbl0226 ',\n",
       "  'question: To whom is the document sent? input: UNIVERSITY OF CALIFORNIA, SAN DIEGO To Date Time WHILE YOU WERE OUT Mr. Ms. From Telephoned Jasips Clinic [ Will phone again [.Please phone OCame to see you [] Will come again JRush MESSAGE Taken by \"Barce https://www.industrydocuments.ucsf.edu/docs/nkbl0226 ',\n",
       "  'question: What the location address of NSDA? input: The best thing between two sandwiches. Soft drinks go with all kinds of drinks contain the purest, filtered water. sandwiches. Round ones, square ones, So sandwich soft drinks among fat ones and lean ones. your sandwiches. And celebrate Na- Not only do they quench large tional Sandwich Month every month in thirsts in a fun way; they also help bal- the year. ance the diet. After all, healthy bodies For information on soft drinks and need 5 to 6 glasses of water a day. Soft the balanced diet, write: NATIONAL SOFT DRINK ASSOCIATIONS 1128 SIXTEENTH ST., N. W., WASHINGTON, D. C. 20036 Source: https://www.industrydocuments.ucsf.edu/docs/qqvf0227 ',\n",
       "  \"question: What is ITC's brand of Atta featured in the advertisement? input: ITC Limited REPORT AND ACCOUNTS 2013 ITC's Brands: An Asset for the Nation The consumer needs and aspirations Flama they fulfil, the benefit they generate for millions across ITC's value chains, the future-ready capabilities that support Nourishment for all ages them, and the value that they create for the country, have made ITC's brands national assets, adding to India's AASHIRVAAD competitiveness. MULTIGRAINS It is ITC's aspiration to be the No 1 FMCG player in the country, driven by ts new FMCG businesses. A recent LOVE DELIGHTFULLY Nielsen report has highlighted that ITC's SOFT SKIN? new FMCG businesses are the fastest GET INDIA'S FIRST GEL BAR t has Moisture Lock for softness round the clock . growing among the top consumer OR CONDITIONERS goods companies operating in India. ITC takes justifiable pride that, along with generating economic value, these Frama celebrated Indian brands also drive the creation of larger societal capital Dark NATURET through the virtuous cycle of Fantasy #BeYOUNG sustainable and inclusive growth. Choco Film Coffee? Chocolate? Or both? Cell renew fight skin damage cell level Escape into one BINGO! CLASSMACE WILLS LIFESTYLE Source: https://www.industrydocuments.ucsf.edu/docs/snbx0223 \",\n",
       "  'question: What is the name of foundation? input: THE ROBERT A. WELCH FOUNDATION 2010 Bank of the Southwest Building Houston, Texas 77002 ET REQUEST SUMMARY YEAR (AS APPLICABLE) May 1, 19 60 May 1, 19 May 1, 19 Total through through through Apt. 30, 1957 App. 30, 19 Apr. 30, 19 1. Personnel $11, 228.00 2. Permanent Scientific Equipment .new $ 3. Expendable Scientific Items & Services . $_ 840.00 $ 840.00 4. Other Expense . 97500 . $ $.... 975.00. 5. TOTAL Exclusive of Overhead $13043.005 $13 043 00 6. Overhead. $1,95.2.00 7. TOTAL AMOUNT of Proposed Budget .. ... $ 15,000.00 $15000 .00 Name(s) of Principal Investigators) John B. Kilpatrick Institution William Marsh Rice University. THE SPACE BELOW IS FOR USE BY THE FOUNDATION. Grant Period: 19 Grant No. . Date Approved Not Approved Director of Research Scientific Advisory Board Board of Trustees .. museum Grantee and Institution Notified Remarks: Source: https://www.industrydocuments.ucsf.edu/docs/zxfk0226 ',\n",
       "  'question: What time is the ‘coffee break’? input: 11:14 to Coffee Break 11:39 a.m. Coffee will be served for men and women in the lobby adjacent to exhibit area. Please move into exhibit area. (Exhibits Open) 11:39 a.m. TRRF GENERAL SESSION (PART 1) Presiding: Lee A. Waller TRRF Vice President 11:39 to \"Introductory Remarks\" 11:44 a.m. Lee A. Waller, TRRF Vice Presi dent 11:44 a.m. Individual Interviews with TRRF to Public Board Members and Sci- 12:25 p.m. entific Advisory Council Mem- bers Conducted by TRRF Treasurer Philip G. Kuehn to get answers which the public refrigerated warehousing industry is looking for. Plus questions from the floor. Dr. Emil M. Mrak, University of Cal- ifornia, Chairman, TRRF Board; Sam R. Cecil, University of Georgia College of Agriculture; Dr. Stanley Charm, Tufts University School of Medicine; Dr. Robert H. Cotton, ITT Continental Baking Company; Dr. Owen Fennema, University of Wis- consin; Dr. Robert E. Hardenburg, USDA. 12:25 to Questions and Answers 12:58 p.m. 12:58 to Exhibits Open 4:00 p.m. Capt. Jack Stoney Room 2:00 to TRRF Scientific Advisory 5:00 p.m. Council Meeting Ballroom Foyer Source: https://www.industrydocuments.ucsf.edu/docs/txpp0227 ',\n",
       "  'question: According to budget request summary what is total amount of other expenses?? input: THE ROBERT A. WELCH FOUNDATION 2010 Bank of the Southwest Building Houston, Texas 77002 ET REQUEST SUMMARY YEAR (AS APPLICABLE) May 1, 19 60 May 1, 19 May 1, 19 Total through through through Apt. 30, 1957 App. 30, 19 Apr. 30, 19 1. Personnel $11, 228.00 2. Permanent Scientific Equipment .new $ 3. Expendable Scientific Items & Services . $_ 840.00 $ 840.00 4. Other Expense . 97500 . $ $.... 975.00. 5. TOTAL Exclusive of Overhead $13043.005 $13 043 00 6. Overhead. $1,95.2.00 7. TOTAL AMOUNT of Proposed Budget .. ... $ 15,000.00 $15000 .00 Name(s) of Principal Investigators) John B. Kilpatrick Institution William Marsh Rice University. THE SPACE BELOW IS FOR USE BY THE FOUNDATION. Grant Period: 19 Grant No. . Date Approved Not Approved Director of Research Scientific Advisory Board Board of Trustees .. museum Grantee and Institution Notified Remarks: Source: https://www.industrydocuments.ucsf.edu/docs/zxfk0226 '],\n",
       " 'bboxes': tensor([[[1080,  223, 1300,  264],\n",
       "          [ 639,  355, 1810,  394],\n",
       "          [ 420,  416,  492,  451],\n",
       "          ...,\n",
       "          [   0,    0,    0,    0],\n",
       "          [   0,    0,    0,    0],\n",
       "          [   0,    0,    0,    0]],\n",
       " \n",
       "         [[  35,   63,  573,   95],\n",
       "          [  37,  125,   69,  148],\n",
       "          [  35,  180,   92,  204],\n",
       "          ...,\n",
       "          [   0,    0,    0,    0],\n",
       "          [   0,    0,    0,    0],\n",
       "          [   0,    0,    0,    0]],\n",
       " \n",
       "         [[ 125,  133,  699,  167],\n",
       "          [ 118,  320, 1225,  386],\n",
       "          [ 124,  460,  590,  493],\n",
       "          ...,\n",
       "          [   0,    0,    0,    0],\n",
       "          [   0,    0,    0,    0],\n",
       "          [   0,    0,    0,    0]],\n",
       " \n",
       "         ...,\n",
       " \n",
       "         [[ 161,  163,  681,  197],\n",
       "          [ 163,  195,  622,  237],\n",
       "          [ 159,  231,  439,  265],\n",
       "          ...,\n",
       "          [   0,    0,    0,    0],\n",
       "          [   0,    0,    0,    0],\n",
       "          [   0,    0,    0,    0]],\n",
       " \n",
       "         [[ 118,   91,  219,  116],\n",
       "          [ 282,   90,  447,  118],\n",
       "          [ 117,  121,  244,  147],\n",
       "          ...,\n",
       "          [   0,    0,    0,    0],\n",
       "          [   0,    0,    0,    0],\n",
       "          [   0,    0,    0,    0]],\n",
       " \n",
       "         [[ 161,  163,  681,  197],\n",
       "          [ 163,  195,  622,  237],\n",
       "          [ 159,  231,  439,  265],\n",
       "          ...,\n",
       "          [   0,    0,    0,    0],\n",
       "          [   0,    0,    0,    0],\n",
       "          [   0,    0,    0,    0]]]),\n",
       " 'target': tensor([[ 4097,  2577,     1,  ...,     0,     0,     0],\n",
       "         [ 3819,    13,     3,  ...,     0,     0,     0],\n",
       "         [   34,    75,  1643,  ...,     0,     0,     0],\n",
       "         ...,\n",
       "         [   37,  2715,    71,  ...,     0,     0,     0],\n",
       "         [  850,    10,  2534,  ...,     0,     0,     0],\n",
       "         [ 1514,  4327, 23577,  ...,     0,     0,     0]]),\n",
       " 'target_text': ['0.28',\n",
       "  'university of california',\n",
       "  'itc limited',\n",
       "  'san diego',\n",
       "  'Paul',\n",
       "  '1128 SIXTEENTH ST., N. W., WASHINGTON, D. C. 20036',\n",
       "  'aashirvaad',\n",
       "  'The Robert A. Welch Foundation',\n",
       "  '11:14 to 11:39 a.m.',\n",
       "  '$975.00']}"
      ]
     },
     "execution_count": 28,
     "metadata": {},
     "output_type": "execute_result"
    }
   ],
   "source": [
    "batch = next(iter(val_dataloader))\n",
    "batch"
   ]
  },
  {
   "cell_type": "code",
   "execution_count": 29,
   "metadata": {},
   "outputs": [],
   "source": [
    "cuda_batch = {}\n",
    "for k, v in batch.items():\n",
    "    if k in [\"document\", \"target_text\", \"input_text\"]:\n",
    "        cuda_batch[k] = v\n",
    "    else:\n",
    "        cuda_batch[k] = v.cuda()  \n",
    "batch = cuda_batch"
   ]
  },
  {
   "cell_type": "code",
   "execution_count": 30,
   "metadata": {},
   "outputs": [],
   "source": [
    "with torch.no_grad():\n",
    "    output = model(batch)"
   ]
  },
  {
   "cell_type": "code",
   "execution_count": 31,
   "metadata": {},
   "outputs": [
    {
     "data": {
      "text/plain": [
       "PreTrainedTokenizer(name_or_path='t5-base', vocab_size=32100, model_max_len=512, is_fast=False, padding_side='right', special_tokens={'eos_token': '</s>', 'unk_token': '<unk>', 'pad_token': '<pad>', 'additional_special_tokens': ['<extra_id_0>', '<extra_id_1>', '<extra_id_2>', '<extra_id_3>', '<extra_id_4>', '<extra_id_5>', '<extra_id_6>', '<extra_id_7>', '<extra_id_8>', '<extra_id_9>', '<extra_id_10>', '<extra_id_11>', '<extra_id_12>', '<extra_id_13>', '<extra_id_14>', '<extra_id_15>', '<extra_id_16>', '<extra_id_17>', '<extra_id_18>', '<extra_id_19>', '<extra_id_20>', '<extra_id_21>', '<extra_id_22>', '<extra_id_23>', '<extra_id_24>', '<extra_id_25>', '<extra_id_26>', '<extra_id_27>', '<extra_id_28>', '<extra_id_29>', '<extra_id_30>', '<extra_id_31>', '<extra_id_32>', '<extra_id_33>', '<extra_id_34>', '<extra_id_35>', '<extra_id_36>', '<extra_id_37>', '<extra_id_38>', '<extra_id_39>', '<extra_id_40>', '<extra_id_41>', '<extra_id_42>', '<extra_id_43>', '<extra_id_44>', '<extra_id_45>', '<extra_id_46>', '<extra_id_47>', '<extra_id_48>', '<extra_id_49>', '<extra_id_50>', '<extra_id_51>', '<extra_id_52>', '<extra_id_53>', '<extra_id_54>', '<extra_id_55>', '<extra_id_56>', '<extra_id_57>', '<extra_id_58>', '<extra_id_59>', '<extra_id_60>', '<extra_id_61>', '<extra_id_62>', '<extra_id_63>', '<extra_id_64>', '<extra_id_65>', '<extra_id_66>', '<extra_id_67>', '<extra_id_68>', '<extra_id_69>', '<extra_id_70>', '<extra_id_71>', '<extra_id_72>', '<extra_id_73>', '<extra_id_74>', '<extra_id_75>', '<extra_id_76>', '<extra_id_77>', '<extra_id_78>', '<extra_id_79>', '<extra_id_80>', '<extra_id_81>', '<extra_id_82>', '<extra_id_83>', '<extra_id_84>', '<extra_id_85>', '<extra_id_86>', '<extra_id_87>', '<extra_id_88>', '<extra_id_89>', '<extra_id_90>', '<extra_id_91>', '<extra_id_92>', '<extra_id_93>', '<extra_id_94>', '<extra_id_95>', '<extra_id_96>', '<extra_id_97>', '<extra_id_98>', '<extra_id_99>']})"
      ]
     },
     "execution_count": 31,
     "metadata": {},
     "output_type": "execute_result"
    }
   ],
   "source": [
    "tokenizer = model.tokenizer\n",
    "tokenizer"
   ]
  },
  {
   "cell_type": "code",
   "execution_count": 41,
   "metadata": {},
   "outputs": [
    {
     "name": "stdout",
     "output_type": "stream",
     "text": [
      "prediction: 8.28\n",
      "target: 0.28\n",
      "F1: 0, Exact: 0\n",
      "\n",
      "prediction: UNIVERSITY OF CALIFORNIA, SAN DIEGO\n",
      "target: university of california\n",
      "F1: 0.5, Exact: 0\n",
      "\n",
      "prediction: ITC Limited\n",
      "target: itc limited\n",
      "F1: 1.0, Exact: 1\n",
      "\n",
      "prediction: UNIVERSITY OF CALIFORNIA, SAN DIEGO\n",
      "target: san diego\n",
      "F1: 0.5714285714285715, Exact: 0\n",
      "\n",
      "prediction: Dr. Ms.\n",
      "target: Paul\n",
      "F1: 0, Exact: 0\n",
      "\n",
      "prediction: 1128 SIXTEENTH ST., WASHINGTON, D.C. 20036\n",
      "target: 1128 SIXTEENTH ST., N. W., WASHINGTON, D. C. 20036\n",
      "F1: 0.6666666666666667, Exact: 0\n",
      "\n",
      "prediction: An Asset for the Nation\n",
      "target: aashirvaad\n",
      "F1: 0, Exact: 0\n",
      "\n",
      "prediction: THE ROBERT A. WELCH FOUNDATION\n",
      "target: The Robert A. Welch Foundation\n",
      "F1: 1.0, Exact: 1\n",
      "\n",
      "prediction: 11:14 to 5:00 p.m.\n",
      "target: 11:14 to 11:39 a.m.\n",
      "F1: 0.5, Exact: 0\n",
      "\n",
      "prediction: $ 975.00\n",
      "target: $975.00\n",
      "F1: 0, Exact: 0\n",
      "\n"
     ]
    }
   ],
   "source": [
    "output_text = [tokenizer.decode(out, skip_special_tokens=True) for out in output]\n",
    "tgt_text = batch[\"target_text\"]\n",
    "for i in range(10):\n",
    "    print(f\"prediction: {output_text[i]}\\ntarget: {tgt_text[i]}\\nF1: {compute_f1(output_text[i], tgt_text[i])}, Exact: {compute_exact(output_text[i], tgt_text[i])}\\n\")"
   ]
  }
 ],
 "metadata": {
  "kernelspec": {
   "display_name": "Python 3",
   "language": "python",
   "name": "python3"
  },
  "language_info": {
   "codemirror_mode": {
    "name": "ipython",
    "version": 3
   },
   "file_extension": ".py",
   "mimetype": "text/x-python",
   "name": "python",
   "nbconvert_exporter": "python",
   "pygments_lexer": "ipython3",
   "version": "3.8.5"
  }
 },
 "nbformat": 4,
 "nbformat_minor": 4
}
