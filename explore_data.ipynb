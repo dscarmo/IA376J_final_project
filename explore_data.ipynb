{
 "cells": [
  {
   "cell_type": "code",
   "execution_count": 2,
   "metadata": {},
   "outputs": [
    {
     "name": "stdout",
     "output_type": "stream",
     "text": [
      "data\t  dataset.py\t      LICENSE\t requirements.txt\r\n",
      "data.dvc  explore_data.ipynb  README.md\r\n"
     ]
    }
   ],
   "source": [
    "!ls"
   ]
  },
  {
   "cell_type": "code",
   "execution_count": 24,
   "metadata": {},
   "outputs": [],
   "source": [
    "import os\n",
    "import glob\n",
    "import json\n",
    "import imageio\n",
    "import matplotlib.pyplot as plt"
   ]
  },
  {
   "cell_type": "code",
   "execution_count": 6,
   "metadata": {},
   "outputs": [],
   "source": [
    "with open(\"data/raw/train/train_v1.0.json\") as train_json:\n",
    "    train_dict = json.load(train_json)"
   ]
  },
  {
   "cell_type": "code",
   "execution_count": 10,
   "metadata": {},
   "outputs": [
    {
     "data": {
      "text/plain": [
       "(dict_keys(['dataset_name', 'dataset_version', 'dataset_split', 'data']), 4)"
      ]
     },
     "execution_count": 10,
     "metadata": {},
     "output_type": "execute_result"
    }
   ],
   "source": [
    "train_dict.keys(), len(train_dict)"
   ]
  },
  {
   "cell_type": "code",
   "execution_count": 14,
   "metadata": {},
   "outputs": [
    {
     "data": {
      "text/plain": [
       "('docvqa',\n",
       " '1.0',\n",
       " 'train',\n",
       " {'questionId': 337,\n",
       "  'question': 'what is the date mentioned in this letter?',\n",
       "  'image': 'documents/xnbl0037_1.png',\n",
       "  'docId': 279,\n",
       "  'ucsf_document_id': 'xnbl0037',\n",
       "  'ucsf_document_page_no': '1',\n",
       "  'answers': ['1/8/93'],\n",
       "  'data_split': 'train'})"
      ]
     },
     "execution_count": 14,
     "metadata": {},
     "output_type": "execute_result"
    }
   ],
   "source": [
    "train_dict[\"dataset_name\"], train_dict[\"dataset_version\"], train_dict[\"dataset_split\"], train_dict[\"data\"][0]"
   ]
  },
  {
   "cell_type": "code",
   "execution_count": 26,
   "metadata": {},
   "outputs": [],
   "source": [
    "sample = train_dict[\"data\"][0]\n",
    "train_path = \"data/raw/train/\"\n",
    "image_path = train_path + str(sample[\"image\"])\n",
    "image = imageio.imread(image_path)"
   ]
  },
  {
   "cell_type": "code",
   "execution_count": 27,
   "metadata": {},
   "outputs": [
    {
     "data": {
      "text/plain": [
       "<matplotlib.image.AxesImage at 0x7fd0f36fc670>"
      ]
     },
     "execution_count": 27,
     "metadata": {},
     "output_type": "execute_result"
    },
    {
     "data": {
      "image/png": "[encoded data removed]",
      "text/plain": [
       "<Figure size 432x288 with 1 Axes>"
      ]
     },
     "metadata": {
      "needs_background": "light"
     },
     "output_type": "display_data"
    }
   ],
   "source": [
    "plt.imshow(image, cmap=\"gray\")"
   ]
  },
  {
   "cell_type": "code",
   "execution_count": 30,
   "metadata": {},
   "outputs": [],
   "source": [
    "ocr_path = os.path.join(train_path, \"ocr_results\", os.path.basename(image_path)[:-4] + \".json\")\n",
    "\n",
    "with open(ocr_path) as ocr_file:\n",
    "    ocr = json.load(ocr_file)"
   ]
  },
  {
   "cell_type": "code",
   "execution_count": 31,
   "metadata": {},
   "outputs": [
    {
     "data": {
      "text/plain": [
       "{'status': 'Succeeded',\n",
       " 'recognitionResults': [{'page': 1,\n",
       "   'clockwiseOrientation': 359.79,\n",
       "   'width': 1695,\n",
       "   'height': 2025,\n",
       "   'unit': 'pixel',\n",
       "   'lines': [{'boundingBox': [576, 30, 992, 26, 993, 126, 577, 130],\n",
       "     'text': 'Confidential',\n",
       "     'words': [{'boundingBox': [586, 30, 993, 36, 994, 119, 584, 131],\n",
       "       'text': 'Confidential',\n",
       "       'confidence': 'Low'}]},\n",
       "    {'boundingBox': [1081, 34, 1124, 31, 1125, 53, 1082, 56],\n",
       "     'text': '.. ..',\n",
       "     'words': [{'boundingBox': [1080, 34, 1097, 32, 1099, 54, 1081, 55],\n",
       "       'text': '..',\n",
       "       'confidence': 'Low'},\n",
       "      {'boundingBox': [1102, 32, 1122, 31, 1124, 53, 1103, 54],\n",
       "       'text': '..'}]},\n",
       "    {'boundingBox': [695, 202, 994, 204, 994, 236, 694, 234],\n",
       "     'text': 'RJRT PR APPROVAL',\n",
       "     'words': [{'boundingBox': [699, 203, 779, 204, 779, 234, 699, 234],\n",
       "       'text': 'RJRT',\n",
       "       'confidence': 'Low'},\n",
       "      {'boundingBox': [793, 204, 832, 204, 832, 234, 793, 234], 'text': 'PR'},\n",
       "      {'boundingBox': [848, 204, 995, 204, 995, 237, 848, 234],\n",
       "       'text': 'APPROVAL'}]},\n",
       "    {'boundingBox': [254, 295, 343, 294, 344, 322, 255, 323],\n",
       "     'text': 'DATE :',\n",
       "     'words': [{'boundingBox': [259, 296, 330, 295, 331, 322, 259, 323],\n",
       "       'text': 'DATE'},\n",
       "      {'boundingBox': [335, 295, 343, 295, 344, 322, 337, 322], 'text': ':'}]},\n",
       "    {'boundingBox': [396, 262, 561, 262, 559, 333, 398, 327],\n",
       "     'text': '1/8/13',\n",
       "     'words': [{'boundingBox': [400, 258, 556, 261, 555, 332, 399, 329],\n",
       "       'text': '1/8/13',\n",
       "       'confidence': 'Low'}]},\n",
       "    {'boundingBox': [399, 331, 644, 330, 645, 410, 400, 412],\n",
       "     'text': 'Ru alAs',\n",
       "     'words': [{'boundingBox': [426, 334, 523, 331, 522, 410, 426, 412],\n",
       "       'text': 'Ru'},\n",
       "      {'boundingBox': [548, 331, 644, 333, 643, 413, 547, 411],\n",
       "       'text': 'alAs',\n",
       "       'confidence': 'Low'}]},\n",
       "    {'boundingBox': [249, 410, 658, 409, 659, 448, 250, 448],\n",
       "     'text': 'PROPOSED RELEASE DATE:',\n",
       "     'words': [{'boundingBox': [259, 416, 403, 414, 405, 445, 260, 444],\n",
       "       'text': 'PROPOSED'},\n",
       "      {'boundingBox': [422, 413, 551, 412, 553, 447, 423, 445],\n",
       "       'text': 'RELEASE'},\n",
       "      {'boundingBox': [570, 411, 657, 410, 659, 449, 572, 447],\n",
       "       'text': 'DATE:',\n",
       "       'confidence': 'Low'}]},\n",
       "    {'boundingBox': [673, 400, 970, 385, 973, 449, 677, 464],\n",
       "     'text': 'for response',\n",
       "     'words': [{'boundingBox': [688, 400, 764, 398, 766, 457, 690, 464],\n",
       "       'text': 'for',\n",
       "       'confidence': 'Low'},\n",
       "      {'boundingBox': [777, 398, 972, 393, 972, 445, 778, 456],\n",
       "       'text': 'response',\n",
       "       'confidence': 'Low'}]},\n",
       "    {'boundingBox': [257, 472, 530, 471, 531, 504, 258, 505],\n",
       "     'text': 'FOR RELEASE TO:',\n",
       "     'words': [{'boundingBox': [260, 474, 314, 473, 315, 505, 260, 505],\n",
       "       'text': 'FOR'},\n",
       "      {'boundingBox': [330, 473, 462, 472, 462, 506, 331, 505],\n",
       "       'text': 'RELEASE',\n",
       "       'confidence': 'Low'},\n",
       "      {'boundingBox': [480, 472, 531, 473, 530, 505, 480, 505],\n",
       "       'text': 'TO:',\n",
       "       'confidence': 'Low'}]},\n",
       "    {'boundingBox': [252, 529, 411, 530, 410, 565, 251, 564],\n",
       "     'text': 'CONTACT:',\n",
       "     'words': [{'boundingBox': [258, 531, 409, 530, 412, 565, 259, 564],\n",
       "       'text': 'CONTACT:'}]},\n",
       "    {'boundingBox': [429, 521, 663, 511, 666, 568, 432, 578],\n",
       "     'text': 'P. CARTER',\n",
       "     'words': [{'boundingBox': [445, 521, 490, 519, 492, 577, 447, 578],\n",
       "       'text': 'P.'},\n",
       "      {'boundingBox': [501, 519, 658, 513, 660, 568, 503, 577],\n",
       "       'text': 'CARTER'}]},\n",
       "    {'boundingBox': [256, 653, 410, 654, 410, 682, 255, 681],\n",
       "     'text': 'ROUTE TO',\n",
       "     'words': [{'boundingBox': [258, 656, 347, 656, 349, 683, 259, 681],\n",
       "       'text': 'ROUTE'},\n",
       "      {'boundingBox': [368, 655, 401, 654, 403, 682, 369, 683],\n",
       "       'text': 'TO',\n",
       "       'confidence': 'Low'}]},\n",
       "    {'boundingBox': [1037, 711, 1194, 715, 1193, 748, 1036, 744],\n",
       "     'text': 'Initials',\n",
       "     'words': [{'boundingBox': [1048, 713, 1194, 715, 1193, 749, 1047, 745],\n",
       "       'text': 'Initials',\n",
       "       'confidence': 'Low'}]},\n",
       "    {'boundingBox': [1357, 713, 1436, 718, 1434, 751, 1356, 745],\n",
       "     'text': 'pate',\n",
       "     'words': [{'boundingBox': [1359, 712, 1433, 717, 1431, 750, 1356, 745],\n",
       "       'text': 'pate',\n",
       "       'confidence': 'Low'}]},\n",
       "    {'boundingBox': [253, 773, 481, 775, 480, 807, 252, 806],\n",
       "     'text': 'Peggy Carter',\n",
       "     'words': [{'boundingBox': [257, 774, 348, 777, 348, 807, 257, 804],\n",
       "       'text': 'Peggy',\n",
       "       'confidence': 'Low'},\n",
       "      {'boundingBox': [366, 778, 478, 776, 478, 804, 366, 807],\n",
       "       'text': 'Carter'}]},\n",
       "    {'boundingBox': [1019, 756, 1129, 755, 1129, 804, 1017, 808],\n",
       "     'text': 'Ac',\n",
       "     'words': [{'boundingBox': [1053, 755, 1127, 753, 1129, 804, 1054, 806],\n",
       "       'text': 'Ac',\n",
       "       'confidence': 'Low'}]},\n",
       "    {'boundingBox': [250, 833, 458, 837, 457, 866, 249, 862],\n",
       "     'text': 'Maura Payne',\n",
       "     'words': [{'boundingBox': [254, 835, 349, 838, 349, 864, 254, 863],\n",
       "       'text': 'Maura'},\n",
       "      {'boundingBox': [367, 838, 456, 837, 457, 866, 367, 865],\n",
       "       'text': 'Payne',\n",
       "       'confidence': 'Low'}]},\n",
       "    {'boundingBox': [254, 890, 473, 892, 472, 925, 253, 924],\n",
       "     'text': 'David Fishel',\n",
       "     'words': [{'boundingBox': [254, 893, 349, 894, 351, 925, 256, 923],\n",
       "       'text': 'David'},\n",
       "      {'boundingBox': [365, 894, 472, 892, 473, 925, 367, 925],\n",
       "       'text': 'Fishel',\n",
       "       'confidence': 'Low'}]},\n",
       "    {'boundingBox': [225, 943, 566, 931, 568, 979, 227, 991],\n",
       "     'text': 'Tom GRISCom',\n",
       "     'words': [{'boundingBox': [243, 944, 319, 940, 320, 989, 244, 989],\n",
       "       'text': 'Tom'},\n",
       "      {'boundingBox': [355, 939, 562, 935, 563, 977, 355, 988],\n",
       "       'text': 'GRISCom',\n",
       "       'confidence': 'Low'}]},\n",
       "    {'boundingBox': [236, 1003, 543, 983, 546, 1030, 239, 1050],\n",
       "     'text': 'Diane Barrows',\n",
       "     'words': [{'boundingBox': [247, 1003, 370, 994, 371, 1043, 248, 1049],\n",
       "       'text': 'Diane'},\n",
       "      {'boundingBox': [391, 993, 544, 985, 546, 1030, 392, 1042],\n",
       "       'text': 'Barrows',\n",
       "       'confidence': 'Low'}]},\n",
       "    {'boundingBox': [244, 1053, 514, 1034, 518, 1087, 248, 1105],\n",
       "     'text': 'Ed Blackmer',\n",
       "     'words': [{'boundingBox': [249, 1056, 310, 1050, 313, 1101, 252, 1106],\n",
       "       'text': 'Ed'},\n",
       "      {'boundingBox': [336, 1047, 511, 1038, 516, 1088, 340, 1099],\n",
       "       'text': 'Blackmer'}]},\n",
       "    {'boundingBox': [241, 1115, 500, 1088, 506, 1140, 247, 1167],\n",
       "     'text': 'Tow Rucker',\n",
       "     'words': [{'boundingBox': [256, 1115, 330, 1107, 334, 1159, 260, 1165],\n",
       "       'text': 'Tow'},\n",
       "      {'boundingBox': [371, 1103, 500, 1089, 504, 1141, 376, 1155],\n",
       "       'text': 'Rucker',\n",
       "       'confidence': 'Low'}]},\n",
       "    {'boundingBox': [1029, 1119, 1124, 1112, 1128, 1172, 1038, 1185],\n",
       "     'text': 'TR',\n",
       "     'words': [{'boundingBox': [1037,\n",
       "        1118,\n",
       "        1120,\n",
       "        1109,\n",
       "        1127,\n",
       "        1174,\n",
       "        1044,\n",
       "        1183],\n",
       "       'text': 'TR',\n",
       "       'confidence': 'Low'}]},\n",
       "    {'boundingBox': [393, 1252, 1283, 1253, 1282, 1289, 392, 1288],\n",
       "     'text': 'Return to Peggy Carter, PR, 16 Reynolds Building',\n",
       "     'words': [{'boundingBox': [399, 1254, 512, 1254, 511, 1288, 398, 1287],\n",
       "       'text': 'Return'},\n",
       "      {'boundingBox': [529, 1254, 568, 1254, 568, 1288, 528, 1288],\n",
       "       'text': 'to'},\n",
       "      {'boundingBox': [584, 1254, 679, 1254, 679, 1289, 583, 1288],\n",
       "       'text': 'Peggy'},\n",
       "      {'boundingBox': [693, 1254, 830, 1254, 830, 1289, 692, 1289],\n",
       "       'text': 'Carter,'},\n",
       "      {'boundingBox': [841, 1254, 902, 1254, 902, 1289, 840, 1289],\n",
       "       'text': 'PR,'},\n",
       "      {'boundingBox': [917, 1254, 956, 1254, 956, 1290, 917, 1290],\n",
       "       'text': '16'},\n",
       "      {'boundingBox': [969, 1254, 1121, 1254, 1122, 1290, 969, 1290],\n",
       "       'text': 'Reynolds'},\n",
       "      {'boundingBox': [1135, 1254, 1280, 1253, 1281, 1289, 1135, 1290],\n",
       "       'text': 'Building'}]},\n",
       "    {'boundingBox': [1527, 1536, 1500, 1721, 1468, 1716, 1495, 1532],\n",
       "     'text': '51142 3977',\n",
       "     'words': [{'boundingBox': [1527,\n",
       "        1542,\n",
       "        1514,\n",
       "        1630,\n",
       "        1483,\n",
       "        1623,\n",
       "        1495,\n",
       "        1536],\n",
       "       'text': '51142'},\n",
       "      {'boundingBox': [1511, 1648, 1499, 1719, 1470, 1712, 1481, 1641],\n",
       "       'text': '3977'}]},\n",
       "    {'boundingBox': [1496, 1917, 1529, 1922, 1527, 1940, 1495, 1934],\n",
       "     'text': '. .',\n",
       "     'words': [{'boundingBox': [1499,\n",
       "        1916,\n",
       "        1504,\n",
       "        1917,\n",
       "        1501,\n",
       "        1935,\n",
       "        1496,\n",
       "        1934],\n",
       "       'text': '.'},\n",
       "      {'boundingBox': [1507, 1918, 1519, 1920, 1516, 1938, 1504, 1935],\n",
       "       'text': '.'}]},\n",
       "    {'boundingBox': [373, 1983, 1315, 1982, 1316, 2017, 374, 2018],\n",
       "     'text': 'Source: https://www.industrydocuments.ucsf.edu/docs/xnb10037',\n",
       "     'words': [{'boundingBox': [378, 1985, 492, 1986, 493, 2018, 379, 2017],\n",
       "       'text': 'Source:'},\n",
       "      {'boundingBox': [498, 1986, 1314, 1983, 1315, 2018, 499, 2018],\n",
       "       'text': 'https://www.industrydocuments.ucsf.edu/docs/xnb10037',\n",
       "       'confidence': 'Low'}]}]}]}"
      ]
     },
     "execution_count": 31,
     "metadata": {},
     "output_type": "execute_result"
    }
   ],
   "source": [
    "ocr"
   ]
  }
 ],
 "metadata": {
  "kernelspec": {
   "display_name": "Python 3",
   "language": "python",
   "name": "python3"
  },
  "language_info": {
   "codemirror_mode": {
    "name": "ipython",
    "version": 3
   },
   "file_extension": ".py",
   "mimetype": "text/x-python",
   "name": "python",
   "nbconvert_exporter": "python",
   "pygments_lexer": "ipython3",
   "version": "3.8.5"
  }
 },
 "nbformat": 4,
 "nbformat_minor": 4
}
